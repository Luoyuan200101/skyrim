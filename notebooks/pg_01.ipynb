{
 "cells": [
  {
   "cell_type": "code",
   "execution_count": 10,
   "metadata": {},
   "outputs": [
    {
     "name": "stdout",
     "output_type": "stream",
     "text": [
      "The autoreload extension is already loaded. To reload it, use:\n",
      "  %reload_ext autoreload\n"
     ]
    }
   ],
   "source": [
    "%load_ext autoreload\n",
    "%autoreload 2"
   ]
  },
  {
   "cell_type": "code",
   "execution_count": 11,
   "metadata": {},
   "outputs": [],
   "source": [
    "from pathlib import Path\n",
    "import sys\n",
    "\n",
    "\n",
    "sys.path.append(\"..\")\n",
    "from skyrim import ModelPrediction\n",
    "import numpy as np\n"
   ]
  },
  {
   "cell_type": "code",
   "execution_count": 12,
   "metadata": {},
   "outputs": [],
   "source": [
    "from skyrim import estimate_pressure_hpa\n",
    "import matplotlib.pyplot as plt"
   ]
  },
  {
   "cell_type": "code",
   "execution_count": 14,
   "metadata": {},
   "outputs": [
    {
     "ename": "NotImplementedError",
     "evalue": "",
     "output_type": "error",
     "traceback": [
      "\u001b[0;31m---------------------------------------------------------------------------\u001b[0m",
      "\u001b[0;31mNotImplementedError\u001b[0m                       Traceback (most recent call last)",
      "Cell \u001b[0;32mIn[14], line 3\u001b[0m\n\u001b[1;32m      1\u001b[0m \u001b[38;5;28;01mfrom\u001b[39;00m \u001b[38;5;21;01mskyrim\u001b[39;00m \u001b[38;5;28;01mimport\u001b[39;00m GraphCast\n\u001b[1;32m      2\u001b[0m model \u001b[38;5;241m=\u001b[39m GraphCast()\n\u001b[0;32m----> 3\u001b[0m \u001b[43mmodel\u001b[49m\u001b[38;5;241;43m.\u001b[39;49m\u001b[43mpredict\u001b[49m\u001b[43m(\u001b[49m\u001b[43m)\u001b[49m\n",
      "File \u001b[0;32m~/Projects/skyrim/notebooks/../skyrim/models.py:69\u001b[0m, in \u001b[0;36mBaseModel.predict\u001b[0;34m(self)\u001b[0m\n\u001b[1;32m     68\u001b[0m \u001b[38;5;28;01mdef\u001b[39;00m \u001b[38;5;21mpredict\u001b[39m(\u001b[38;5;28mself\u001b[39m):\n\u001b[0;32m---> 69\u001b[0m     \u001b[38;5;28;01mraise\u001b[39;00m \u001b[38;5;167;01mNotImplementedError\u001b[39;00m\n",
      "\u001b[0;31mNotImplementedError\u001b[0m: "
     ]
    }
   ],
   "source": [
    "from skyrim import GraphCast\n",
    "model = GraphCast()\n",
    "model.predict()\n"
   ]
  },
  {
   "cell_type": "code",
   "execution_count": 7,
   "metadata": {},
   "outputs": [
    {
     "data": {
      "text/plain": [
       "['/Users/m/Projects/skyrim/notebooks',\n",
       " '/Users/m/miniconda3/envs/weather_metal/lib/python310.zip',\n",
       " '/Users/m/miniconda3/envs/weather_metal/lib/python3.10',\n",
       " '/Users/m/miniconda3/envs/weather_metal/lib/python3.10/lib-dynload',\n",
       " '',\n",
       " '/Users/m/miniconda3/envs/weather_metal/lib/python3.10/site-packages',\n",
       " '..']"
      ]
     },
     "execution_count": 7,
     "metadata": {},
     "output_type": "execute_result"
    }
   ],
   "source": [
    "sys.path"
   ]
  },
  {
   "cell_type": "code",
   "execution_count": 9,
   "metadata": {},
   "outputs": [],
   "source": [
    "from skyrim.libs.plotting import plot_wind_components"
   ]
  },
  {
   "cell_type": "code",
   "execution_count": 4,
   "metadata": {},
   "outputs": [
    {
     "name": "stdout",
     "output_type": "stream",
     "text": [
      "Estimated pressure at 1000 meters elevation: 898.7476493918435 Pa\n"
     ]
    }
   ],
   "source": [
    "# Example: Estimate pressure at 1000 meters elevation\n",
    "pressure_at_1000m = estimate_pressure_hpa(1000)\n",
    "print(f\"Estimated pressure at 1000 meters elevation: {pressure_at_1000m} Pa\")"
   ]
  },
  {
   "cell_type": "code",
   "execution_count": 5,
   "metadata": {},
   "outputs": [],
   "source": [
    "UK_WIND_FARMS = {\n",
    "    \"1\": {\"latitude\": 53.9362, \"longitude\": 1.574050, \"isobaricInhPa\": 1000},\n",
    "    \"2\": {\"latitude\": 53.8794, \"longitude\": 1.934730, \"isobaricInhPa\": 1000},\n",
    "    \"3\": {\"latitude\": 56.5872, \"longitude\": -1.735280, \"isobaricInhPa\": 1000},\n",
    "}"
   ]
  },
  {
   "cell_type": "code",
   "execution_count": 6,
   "metadata": {},
   "outputs": [],
   "source": [
    "output_0322 = \"/Users/m/Projects/skyrim/results/panguweather/date=20240322__time=12:00__6__input=cds.grib\"\n",
    "output_0323 = \"/Users/m/Projects/skyrim/results/panguweather/date=20240323__time=12:00__6__input=cds.grib\"\n",
    "output_0324 = \"/Users/m/Projects/skyrim/results/panguweather/date=20240324__time=12:00__6__input=cds.grib\""
   ]
  },
  {
   "cell_type": "code",
   "execution_count": 7,
   "metadata": {},
   "outputs": [
    {
     "name": "stderr",
     "output_type": "stream",
     "text": [
      "skipping variable: paramId==167 shortName='t2m'\n",
      "Traceback (most recent call last):\n",
      "  File \"/Users/m/miniconda3/envs/weather_metal/lib/python3.10/site-packages/cfgrib/dataset.py\", line 680, in build_dataset_components\n",
      "    dict_merge(variables, coord_vars)\n",
      "  File \"/Users/m/miniconda3/envs/weather_metal/lib/python3.10/site-packages/cfgrib/dataset.py\", line 611, in dict_merge\n",
      "    raise DatasetBuildError(\n",
      "cfgrib.dataset.DatasetBuildError: key present and new value is different: key='heightAboveGround' value=Variable(dimensions=(), data=10.0) new_value=Variable(dimensions=(), data=2.0)\n",
      "skipping variable: paramId==167 shortName='t2m'\n",
      "Traceback (most recent call last):\n",
      "  File \"/Users/m/miniconda3/envs/weather_metal/lib/python3.10/site-packages/cfgrib/dataset.py\", line 680, in build_dataset_components\n",
      "    dict_merge(variables, coord_vars)\n",
      "  File \"/Users/m/miniconda3/envs/weather_metal/lib/python3.10/site-packages/cfgrib/dataset.py\", line 611, in dict_merge\n",
      "    raise DatasetBuildError(\n",
      "cfgrib.dataset.DatasetBuildError: key present and new value is different: key='heightAboveGround' value=Variable(dimensions=(), data=10.0) new_value=Variable(dimensions=(), data=2.0)\n",
      "skipping variable: paramId==167 shortName='t2m'\n",
      "Traceback (most recent call last):\n",
      "  File \"/Users/m/miniconda3/envs/weather_metal/lib/python3.10/site-packages/cfgrib/dataset.py\", line 680, in build_dataset_components\n",
      "    dict_merge(variables, coord_vars)\n",
      "  File \"/Users/m/miniconda3/envs/weather_metal/lib/python3.10/site-packages/cfgrib/dataset.py\", line 611, in dict_merge\n",
      "    raise DatasetBuildError(\n",
      "cfgrib.dataset.DatasetBuildError: key present and new value is different: key='heightAboveGround' value=Variable(dimensions=(), data=10.0) new_value=Variable(dimensions=(), data=2.0)\n"
     ]
    }
   ],
   "source": [
    "preds_0322 = ModelPrediction(filepath=output_0322)\n",
    "preds_0323 = ModelPrediction(filepath=output_0323)\n",
    "preds_0324 = ModelPrediction(filepath=output_0324)"
   ]
  },
  {
   "cell_type": "code",
   "execution_count": 8,
   "metadata": {},
   "outputs": [],
   "source": [
    "# Get wind speeds for wind farms 1:\n",
    "data_1 = {\n",
    "    \"20240322\": {\n",
    "        **preds_0322.point_wind_uv(**UK_WIND_FARMS[\"1\"], step=0)},\n",
    "    \"20240323\": {\n",
    "        **preds_0323.point_wind_uv(**UK_WIND_FARMS[\"1\"], step=0)},\n",
    "    \"20240324\": {\n",
    "        **preds_0324.point_wind_uv(**UK_WIND_FARMS[\"1\"], step=0)}\n",
    "}\n",
    "\n",
    "data_2 = {\n",
    "    \"20240322\": {\n",
    "        **preds_0322.point_wind_uv(**UK_WIND_FARMS[\"2\"], step=0)},\n",
    "    \"20240323\": {\n",
    "        **preds_0323.point_wind_uv(**UK_WIND_FARMS[\"2\"], step=0)},\n",
    "    \"20240324\": {\n",
    "        **preds_0324.point_wind_uv(**UK_WIND_FARMS[\"2\"], step=0)}\n",
    "}\n",
    "\n",
    "data_3 = {\n",
    "    \"20240322\": {\n",
    "        **preds_0322.point_wind_uv(**UK_WIND_FARMS[\"3\"], step=0)},\n",
    "    \"20240323\": {\n",
    "        **preds_0323.point_wind_uv(**UK_WIND_FARMS[\"3\"], step=0)},\n",
    "    \"20240324\": {\n",
    "        **preds_0324.point_wind_uv(**UK_WIND_FARMS[\"3\"], step=0)}\n",
    "}\n"
   ]
  },
  {
   "cell_type": "code",
   "execution_count": 9,
   "metadata": {},
   "outputs": [
    {
     "data": {
      "text/plain": [
       "{'20240322': {'u': <xarray.DataArray 'u' ()> Size: 4B\n",
       "  [1 values with dtype=float32]\n",
       "  Coordinates:\n",
       "      time               datetime64[ns] 8B ...\n",
       "      step               timedelta64[ns] 8B 00:00:00\n",
       "      isobaricInhPa      float64 8B 1e+03\n",
       "      latitude           float64 8B 54.0\n",
       "      longitude          float64 8B 1.5\n",
       "      valid_time         datetime64[ns] 8B ...\n",
       "      meanSea            float64 8B ...\n",
       "      heightAboveGround  float64 8B ...\n",
       "  Attributes: (12/29)\n",
       "      GRIB_paramId:                             131\n",
       "      GRIB_dataType:                            fc\n",
       "      GRIB_numberOfPoints:                      1038240\n",
       "      GRIB_typeOfLevel:                         isobaricInhPa\n",
       "      GRIB_stepUnits:                           1\n",
       "      GRIB_stepType:                            instant\n",
       "      ...                                       ...\n",
       "      GRIB_name:                                U component of wind\n",
       "      GRIB_shortName:                           u\n",
       "      GRIB_units:                               m s**-1\n",
       "      long_name:                                U component of wind\n",
       "      units:                                    m s**-1\n",
       "      standard_name:                            eastward_wind,\n",
       "  'v': <xarray.DataArray 'v' ()> Size: 4B\n",
       "  [1 values with dtype=float32]\n",
       "  Coordinates:\n",
       "      time               datetime64[ns] 8B ...\n",
       "      step               timedelta64[ns] 8B 00:00:00\n",
       "      isobaricInhPa      float64 8B 1e+03\n",
       "      latitude           float64 8B 54.0\n",
       "      longitude          float64 8B 1.5\n",
       "      valid_time         datetime64[ns] 8B ...\n",
       "      meanSea            float64 8B ...\n",
       "      heightAboveGround  float64 8B ...\n",
       "  Attributes: (12/29)\n",
       "      GRIB_paramId:                             132\n",
       "      GRIB_dataType:                            fc\n",
       "      GRIB_numberOfPoints:                      1038240\n",
       "      GRIB_typeOfLevel:                         isobaricInhPa\n",
       "      GRIB_stepUnits:                           1\n",
       "      GRIB_stepType:                            instant\n",
       "      ...                                       ...\n",
       "      GRIB_name:                                V component of wind\n",
       "      GRIB_shortName:                           v\n",
       "      GRIB_units:                               m s**-1\n",
       "      long_name:                                V component of wind\n",
       "      units:                                    m s**-1\n",
       "      standard_name:                            northward_wind},\n",
       " '20240323': {'u': <xarray.DataArray 'u' ()> Size: 4B\n",
       "  [1 values with dtype=float32]\n",
       "  Coordinates:\n",
       "      time               datetime64[ns] 8B ...\n",
       "      step               timedelta64[ns] 8B 00:00:00\n",
       "      isobaricInhPa      float64 8B 1e+03\n",
       "      latitude           float64 8B 54.0\n",
       "      longitude          float64 8B 1.5\n",
       "      valid_time         datetime64[ns] 8B ...\n",
       "      meanSea            float64 8B ...\n",
       "      heightAboveGround  float64 8B ...\n",
       "  Attributes: (12/29)\n",
       "      GRIB_paramId:                             131\n",
       "      GRIB_dataType:                            fc\n",
       "      GRIB_numberOfPoints:                      1038240\n",
       "      GRIB_typeOfLevel:                         isobaricInhPa\n",
       "      GRIB_stepUnits:                           1\n",
       "      GRIB_stepType:                            instant\n",
       "      ...                                       ...\n",
       "      GRIB_name:                                U component of wind\n",
       "      GRIB_shortName:                           u\n",
       "      GRIB_units:                               m s**-1\n",
       "      long_name:                                U component of wind\n",
       "      units:                                    m s**-1\n",
       "      standard_name:                            eastward_wind,\n",
       "  'v': <xarray.DataArray 'v' ()> Size: 4B\n",
       "  [1 values with dtype=float32]\n",
       "  Coordinates:\n",
       "      time               datetime64[ns] 8B ...\n",
       "      step               timedelta64[ns] 8B 00:00:00\n",
       "      isobaricInhPa      float64 8B 1e+03\n",
       "      latitude           float64 8B 54.0\n",
       "      longitude          float64 8B 1.5\n",
       "      valid_time         datetime64[ns] 8B ...\n",
       "      meanSea            float64 8B ...\n",
       "      heightAboveGround  float64 8B ...\n",
       "  Attributes: (12/29)\n",
       "      GRIB_paramId:                             132\n",
       "      GRIB_dataType:                            fc\n",
       "      GRIB_numberOfPoints:                      1038240\n",
       "      GRIB_typeOfLevel:                         isobaricInhPa\n",
       "      GRIB_stepUnits:                           1\n",
       "      GRIB_stepType:                            instant\n",
       "      ...                                       ...\n",
       "      GRIB_name:                                V component of wind\n",
       "      GRIB_shortName:                           v\n",
       "      GRIB_units:                               m s**-1\n",
       "      long_name:                                V component of wind\n",
       "      units:                                    m s**-1\n",
       "      standard_name:                            northward_wind},\n",
       " '20240324': {'u': <xarray.DataArray 'u' ()> Size: 4B\n",
       "  [1 values with dtype=float32]\n",
       "  Coordinates:\n",
       "      time               datetime64[ns] 8B ...\n",
       "      step               timedelta64[ns] 8B 00:00:00\n",
       "      isobaricInhPa      float64 8B 1e+03\n",
       "      latitude           float64 8B 54.0\n",
       "      longitude          float64 8B 1.5\n",
       "      valid_time         datetime64[ns] 8B ...\n",
       "      meanSea            float64 8B ...\n",
       "      heightAboveGround  float64 8B ...\n",
       "  Attributes: (12/29)\n",
       "      GRIB_paramId:                             131\n",
       "      GRIB_dataType:                            fc\n",
       "      GRIB_numberOfPoints:                      1038240\n",
       "      GRIB_typeOfLevel:                         isobaricInhPa\n",
       "      GRIB_stepUnits:                           1\n",
       "      GRIB_stepType:                            instant\n",
       "      ...                                       ...\n",
       "      GRIB_name:                                U component of wind\n",
       "      GRIB_shortName:                           u\n",
       "      GRIB_units:                               m s**-1\n",
       "      long_name:                                U component of wind\n",
       "      units:                                    m s**-1\n",
       "      standard_name:                            eastward_wind,\n",
       "  'v': <xarray.DataArray 'v' ()> Size: 4B\n",
       "  [1 values with dtype=float32]\n",
       "  Coordinates:\n",
       "      time               datetime64[ns] 8B ...\n",
       "      step               timedelta64[ns] 8B 00:00:00\n",
       "      isobaricInhPa      float64 8B 1e+03\n",
       "      latitude           float64 8B 54.0\n",
       "      longitude          float64 8B 1.5\n",
       "      valid_time         datetime64[ns] 8B ...\n",
       "      meanSea            float64 8B ...\n",
       "      heightAboveGround  float64 8B ...\n",
       "  Attributes: (12/29)\n",
       "      GRIB_paramId:                             132\n",
       "      GRIB_dataType:                            fc\n",
       "      GRIB_numberOfPoints:                      1038240\n",
       "      GRIB_typeOfLevel:                         isobaricInhPa\n",
       "      GRIB_stepUnits:                           1\n",
       "      GRIB_stepType:                            instant\n",
       "      ...                                       ...\n",
       "      GRIB_name:                                V component of wind\n",
       "      GRIB_shortName:                           v\n",
       "      GRIB_units:                               m s**-1\n",
       "      long_name:                                V component of wind\n",
       "      units:                                    m s**-1\n",
       "      standard_name:                            northward_wind}}"
      ]
     },
     "execution_count": 9,
     "metadata": {},
     "output_type": "execute_result"
    }
   ],
   "source": [
    "data_1"
   ]
  },
  {
   "cell_type": "code",
   "execution_count": 6,
   "metadata": {},
   "outputs": [
    {
     "ename": "ModuleNotFoundError",
     "evalue": "No module named 'skyrim.skyrim.plotting'; 'skyrim.skyrim' is not a package",
     "output_type": "error",
     "traceback": [
      "\u001b[0;31m---------------------------------------------------------------------------\u001b[0m",
      "\u001b[0;31mModuleNotFoundError\u001b[0m                       Traceback (most recent call last)",
      "Cell \u001b[0;32mIn[6], line 1\u001b[0m\n\u001b[0;32m----> 1\u001b[0m \u001b[38;5;28;01mfrom\u001b[39;00m \u001b[38;5;21;01mskyrim\u001b[39;00m\u001b[38;5;21;01m.\u001b[39;00m\u001b[38;5;21;01mskyrim\u001b[39;00m\u001b[38;5;21;01m.\u001b[39;00m\u001b[38;5;21;01mplotting\u001b[39;00m \u001b[38;5;28;01mimport\u001b[39;00m plot_wind_components\n\u001b[1;32m      2\u001b[0m plot_wind_components(data_1,\u001b[38;5;124m'\u001b[39m\u001b[38;5;124mFarm 1\u001b[39m\u001b[38;5;124m'\u001b[39m)\n\u001b[1;32m      3\u001b[0m plot_wind_components(data_2,\u001b[38;5;124m'\u001b[39m\u001b[38;5;124mFarm 2\u001b[39m\u001b[38;5;124m'\u001b[39m)\n",
      "\u001b[0;31mModuleNotFoundError\u001b[0m: No module named 'skyrim.skyrim.plotting'; 'skyrim.skyrim' is not a package"
     ]
    }
   ],
   "source": [
    "from skyrim.skyrim.plotting import plot_wind_components\n",
    "plot_wind_components(data_1,'Farm 1')\n",
    "plot_wind_components(data_2,'Farm 2')\n",
    "plot_wind_components(data_3,'Farm 3')"
   ]
  },
  {
   "cell_type": "code",
   "execution_count": null,
   "metadata": {},
   "outputs": [],
   "source": []
  }
 ],
 "metadata": {
  "kernelspec": {
   "display_name": "weather_metal",
   "language": "python",
   "name": "python3"
  },
  "language_info": {
   "codemirror_mode": {
    "name": "ipython",
    "version": 3
   },
   "file_extension": ".py",
   "mimetype": "text/x-python",
   "name": "python",
   "nbconvert_exporter": "python",
   "pygments_lexer": "ipython3",
   "version": "3.10.14"
  }
 },
 "nbformat": 4,
 "nbformat_minor": 2
}
