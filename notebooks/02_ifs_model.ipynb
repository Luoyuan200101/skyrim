{
 "cells": [
  {
   "cell_type": "markdown",
   "metadata": {},
   "source": [
    "In this notebook, we will use Skyrim to get ECMWF's [Integrated Forecast System)](https://confluence.ecmwf.int/display/FUG/Forecast+User+Guide) (IFS) predictions.  Specifically, we will be utilizing the `HRES` configuration of the system. \n",
    "\n",
    "For more information: [see this](https://www.ecmwf.int/en/forecasts/datasets/open-data), [and this.](https://github.com/ecmwf/ecmwf-opendata)\n",
    "\n",
    "🛑 This notebook does not require any GPU.\n",
    "\n",
    "🪁 Again, we will focus on the wind-speed predictions for the Akyaka region in Turkey.\n",
    "\n",
    "Our approach:\n",
    "1. Initialize the IFSModel with the variables of interest, i.e., `u10m`, `v10m`, `t2m`.\n",
    "2. Get global predictions for these variables given a forecast start date, start time and lead time, i.e. `\"20240611\"`, `\"0000\"`, `24*7`\n",
    "3. Extract and calculate the wind speed predictions (from `u10m` and `v10m`) at Akyaka from the acquired forecast.\n",
    "4. Introduce `IFSModel.snipe()` method, which retrieves the forecast for a specific target datetime, considering multiple possible start times. With this approach you can see how newly assimilated data changes the forecast. (can also be utilized as a proxy for uncertainty)\n",
    "\n",
    "☢️️ NOTE:\n",
    "Acquired forecasts should be taken with a grain of salt—our observations at Akyaka suggest that global weather models fail to capture the local wind characteristics of the kitesurfing beach. :)\n"
   ]
  },
  {
   "cell_type": "code",
   "execution_count": 1,
   "metadata": {},
   "outputs": [],
   "source": [
    "from skyrim.libs.nwp import IFSModel"
   ]
  },
  {
   "cell_type": "code",
   "execution_count": 2,
   "metadata": {},
   "outputs": [
    {
     "data": {
      "text/plain": [
       "1"
      ]
     },
     "execution_count": 2,
     "metadata": {},
     "output_type": "execute_result"
    }
   ],
   "source": [
    "import sys\n",
    "from loguru import logger\n",
    "logger.remove()\n",
    "logger.add(sys.stderr, level=\"INFO\")"
   ]
  },
  {
   "cell_type": "code",
   "execution_count": 3,
   "metadata": {},
   "outputs": [
    {
     "data": {
      "text/plain": [
       "['u10m', 'v10m', 'u100m', 'v100m', 't2m', 'sp', 'msl', 'tcwv', 'tp', 'u50']"
      ]
     },
     "execution_count": 3,
     "metadata": {},
     "output_type": "execute_result"
    }
   ],
   "source": [
    "# to see the available channels use the following command\n",
    "IFSModel.list_available_channels()[0:10]"
   ]
  },
  {
   "cell_type": "code",
   "execution_count": 4,
   "metadata": {},
   "outputs": [],
   "source": [
    "# specify the channels you are interested in\n",
    "channels = [\n",
    "    \"u10m\", # u-component (eastward, zonal) of wind at 10 meters\n",
    "    \"v10m\", # v-component (northward, meridional) of wind at 10 meters\n",
    "    \"t2m\",  # temperature at 2m\n",
    "]"
   ]
  },
  {
   "cell_type": "code",
   "execution_count": 5,
   "metadata": {},
   "outputs": [
    {
     "name": "stderr",
     "output_type": "stream",
     "text": [
      "\u001b[32m2024-06-26 15:04:07.772\u001b[0m | \u001b[1mINFO    \u001b[0m | \u001b[36mskyrim.libs.nwp.ifs\u001b[0m:\u001b[36m__init__\u001b[0m:\u001b[36m122\u001b[0m - \u001b[1mIFS model initialized with channels: ['u10m', 'v10m', 't2m']\u001b[0m\n"
     ]
    },
    {
     "name": "stdout",
     "output_type": "stream",
     "text": [
      "/Users/m/.cache/skyrim/ifs/tmp\n"
     ]
    }
   ],
   "source": [
    "# initialize the model\n",
    "model = IFSModel(channels=channels, cache=False)\n",
    "\n",
    "# to see where the results are cached\n",
    "print(model.cache)\n",
    "\n",
    "# to clear the cache\n",
    "# model.clear_cache()"
   ]
  },
  {
   "cell_type": "code",
   "execution_count": 6,
   "metadata": {},
   "outputs": [
    {
     "name": "stderr",
     "output_type": "stream",
     "text": [
      "Fetching IFS for {start_time}: 0it [00:00, ?it/s]"
     ]
    },
    {
     "data": {
      "application/vnd.jupyter.widget-view+json": {
       "model_id": "054f208f71a646b5b72b588306ec9216",
       "version_major": 2,
       "version_minor": 0
      },
      "text/plain": [
       "<multiple>:   0%|          | 0.00/44.0M [00:00<?, ?B/s]"
      ]
     },
     "metadata": {},
     "output_type": "display_data"
    },
    {
     "name": "stderr",
     "output_type": "stream",
     "text": [
      "Fetching IFS for {start_time}: 1it [00:42, 42.65s/it]"
     ]
    },
    {
     "data": {
      "application/vnd.jupyter.widget-view+json": {
       "model_id": "a9e3c601d587402481d4b88138dd8072",
       "version_major": 2,
       "version_minor": 0
      },
      "text/plain": [
       "<multiple>:   0%|          | 0.00/43.7M [00:00<?, ?B/s]"
      ]
     },
     "metadata": {},
     "output_type": "display_data"
    },
    {
     "name": "stderr",
     "output_type": "stream",
     "text": [
      "Fetching IFS for {start_time}: 2it [01:24, 42.24s/it]"
     ]
    },
    {
     "data": {
      "application/vnd.jupyter.widget-view+json": {
       "model_id": "928934cfcb624604a9d4f6b1bd39895a",
       "version_major": 2,
       "version_minor": 0
      },
      "text/plain": [
       "<multiple>:   0%|          | 0.00/33.3M [00:00<?, ?B/s]"
      ]
     },
     "metadata": {},
     "output_type": "display_data"
    },
    {
     "name": "stderr",
     "output_type": "stream",
     "text": [
      "Fetching IFS for {start_time}: 3it [01:55, 38.62s/it]\n",
      "\u001b[32m2024-06-26 15:06:06.321\u001b[0m | \u001b[1mINFO    \u001b[0m | \u001b[36mskyrim.libs.nwp.ifs\u001b[0m:\u001b[36mclear_cached_files\u001b[0m:\u001b[36m162\u001b[0m - \u001b[1mDeleting cached file: /Users/m/.cache/skyrim/ifs/tmp/78c91e6a892c7dccdb1585e234908ed1e4c914f003381305966ff1cf719ef261\u001b[0m\n",
      "\u001b[32m2024-06-26 15:06:06.324\u001b[0m | \u001b[1mINFO    \u001b[0m | \u001b[36mskyrim.libs.nwp.ifs\u001b[0m:\u001b[36mclear_cached_files\u001b[0m:\u001b[36m162\u001b[0m - \u001b[1mDeleting cached file: /Users/m/.cache/skyrim/ifs/tmp/4695058f946f2d66085cd0cbe05900d9b0c71e2f662b4cbc7f0fdefb6cdad9f6\u001b[0m\n",
      "\u001b[32m2024-06-26 15:06:06.325\u001b[0m | \u001b[1mINFO    \u001b[0m | \u001b[36mskyrim.libs.nwp.ifs\u001b[0m:\u001b[36mclear_cached_files\u001b[0m:\u001b[36m162\u001b[0m - \u001b[1mDeleting cached file: /Users/m/.cache/skyrim/ifs/tmp/8b120796a00cbabd09bfbd6cd92a4b323b3d12d62d2779cd702dff2b21f2ade4\u001b[0m\n"
     ]
    }
   ],
   "source": [
    "# get a weekly global forecast from the IFS HRES model\n",
    "# date and time should be in the format \"YYYYMMDD\" and \"HHMM\" and represent the start of the forecast\n",
    "# lead_time is the forecast duration in hours\n",
    "# you need to have a valid account on the ECMWF website to use this model\n",
    "\n",
    "# .ecmwfapirc file should be in the home directory\n",
    "# cat ~/.ecmwfapirc \n",
    "# {\n",
    "#     \"url\"   : \"https://api.ecmwf.int/v1\",\n",
    "#     \"key\"   : \"\",\n",
    "#     \"email\" : \"\"\n",
    "# }\n",
    "\n",
    "pred = model.predict(date=\"20240611\", time=\"0000\", lead_time=24*7)"
   ]
  },
  {
   "cell_type": "code",
   "execution_count": 7,
   "metadata": {},
   "outputs": [
    {
     "data": {
      "text/plain": [
       "(53, 3, 721, 1440)"
      ]
     },
     "execution_count": 7,
     "metadata": {},
     "output_type": "execute_result"
    }
   ],
   "source": [
    "pred.shape"
   ]
  },
  {
   "cell_type": "code",
   "execution_count": 8,
   "metadata": {},
   "outputs": [
    {
     "data": {
      "text/html": [
       "<div><svg style=\"position: absolute; width: 0; height: 0; overflow: hidden\">\n",
       "<defs>\n",
       "<symbol id=\"icon-database\" viewBox=\"0 0 32 32\">\n",
       "<path d=\"M16 0c-8.837 0-16 2.239-16 5v4c0 2.761 7.163 5 16 5s16-2.239 16-5v-4c0-2.761-7.163-5-16-5z\"></path>\n",
       "<path d=\"M16 17c-8.837 0-16-2.239-16-5v6c0 2.761 7.163 5 16 5s16-2.239 16-5v-6c0 2.761-7.163 5-16 5z\"></path>\n",
       "<path d=\"M16 26c-8.837 0-16-2.239-16-5v6c0 2.761 7.163 5 16 5s16-2.239 16-5v-6c0 2.761-7.163 5-16 5z\"></path>\n",
       "</symbol>\n",
       "<symbol id=\"icon-file-text2\" viewBox=\"0 0 32 32\">\n",
       "<path d=\"M28.681 7.159c-0.694-0.947-1.662-2.053-2.724-3.116s-2.169-2.030-3.116-2.724c-1.612-1.182-2.393-1.319-2.841-1.319h-15.5c-1.378 0-2.5 1.121-2.5 2.5v27c0 1.378 1.122 2.5 2.5 2.5h23c1.378 0 2.5-1.122 2.5-2.5v-19.5c0-0.448-0.137-1.23-1.319-2.841zM24.543 5.457c0.959 0.959 1.712 1.825 2.268 2.543h-4.811v-4.811c0.718 0.556 1.584 1.309 2.543 2.268zM28 29.5c0 0.271-0.229 0.5-0.5 0.5h-23c-0.271 0-0.5-0.229-0.5-0.5v-27c0-0.271 0.229-0.5 0.5-0.5 0 0 15.499-0 15.5 0v7c0 0.552 0.448 1 1 1h7v19.5z\"></path>\n",
       "<path d=\"M23 26h-14c-0.552 0-1-0.448-1-1s0.448-1 1-1h14c0.552 0 1 0.448 1 1s-0.448 1-1 1z\"></path>\n",
       "<path d=\"M23 22h-14c-0.552 0-1-0.448-1-1s0.448-1 1-1h14c0.552 0 1 0.448 1 1s-0.448 1-1 1z\"></path>\n",
       "<path d=\"M23 18h-14c-0.552 0-1-0.448-1-1s0.448-1 1-1h14c0.552 0 1 0.448 1 1s-0.448 1-1 1z\"></path>\n",
       "</symbol>\n",
       "</defs>\n",
       "</svg>\n",
       "<style>/* CSS stylesheet for displaying xarray objects in jupyterlab.\n",
       " *\n",
       " */\n",
       "\n",
       ":root {\n",
       "  --xr-font-color0: var(--jp-content-font-color0, rgba(0, 0, 0, 1));\n",
       "  --xr-font-color2: var(--jp-content-font-color2, rgba(0, 0, 0, 0.54));\n",
       "  --xr-font-color3: var(--jp-content-font-color3, rgba(0, 0, 0, 0.38));\n",
       "  --xr-border-color: var(--jp-border-color2, #e0e0e0);\n",
       "  --xr-disabled-color: var(--jp-layout-color3, #bdbdbd);\n",
       "  --xr-background-color: var(--jp-layout-color0, white);\n",
       "  --xr-background-color-row-even: var(--jp-layout-color1, white);\n",
       "  --xr-background-color-row-odd: var(--jp-layout-color2, #eeeeee);\n",
       "}\n",
       "\n",
       "html[theme=dark],\n",
       "body[data-theme=dark],\n",
       "body.vscode-dark {\n",
       "  --xr-font-color0: rgba(255, 255, 255, 1);\n",
       "  --xr-font-color2: rgba(255, 255, 255, 0.54);\n",
       "  --xr-font-color3: rgba(255, 255, 255, 0.38);\n",
       "  --xr-border-color: #1F1F1F;\n",
       "  --xr-disabled-color: #515151;\n",
       "  --xr-background-color: #111111;\n",
       "  --xr-background-color-row-even: #111111;\n",
       "  --xr-background-color-row-odd: #313131;\n",
       "}\n",
       "\n",
       ".xr-wrap {\n",
       "  display: block !important;\n",
       "  min-width: 300px;\n",
       "  max-width: 700px;\n",
       "}\n",
       "\n",
       ".xr-text-repr-fallback {\n",
       "  /* fallback to plain text repr when CSS is not injected (untrusted notebook) */\n",
       "  display: none;\n",
       "}\n",
       "\n",
       ".xr-header {\n",
       "  padding-top: 6px;\n",
       "  padding-bottom: 6px;\n",
       "  margin-bottom: 4px;\n",
       "  border-bottom: solid 1px var(--xr-border-color);\n",
       "}\n",
       "\n",
       ".xr-header > div,\n",
       ".xr-header > ul {\n",
       "  display: inline;\n",
       "  margin-top: 0;\n",
       "  margin-bottom: 0;\n",
       "}\n",
       "\n",
       ".xr-obj-type,\n",
       ".xr-array-name {\n",
       "  margin-left: 2px;\n",
       "  margin-right: 10px;\n",
       "}\n",
       "\n",
       ".xr-obj-type {\n",
       "  color: var(--xr-font-color2);\n",
       "}\n",
       "\n",
       ".xr-sections {\n",
       "  padding-left: 0 !important;\n",
       "  display: grid;\n",
       "  grid-template-columns: 150px auto auto 1fr 20px 20px;\n",
       "}\n",
       "\n",
       ".xr-section-item {\n",
       "  display: contents;\n",
       "}\n",
       "\n",
       ".xr-section-item input {\n",
       "  display: none;\n",
       "}\n",
       "\n",
       ".xr-section-item input + label {\n",
       "  color: var(--xr-disabled-color);\n",
       "}\n",
       "\n",
       ".xr-section-item input:enabled + label {\n",
       "  cursor: pointer;\n",
       "  color: var(--xr-font-color2);\n",
       "}\n",
       "\n",
       ".xr-section-item input:enabled + label:hover {\n",
       "  color: var(--xr-font-color0);\n",
       "}\n",
       "\n",
       ".xr-section-summary {\n",
       "  grid-column: 1;\n",
       "  color: var(--xr-font-color2);\n",
       "  font-weight: 500;\n",
       "}\n",
       "\n",
       ".xr-section-summary > span {\n",
       "  display: inline-block;\n",
       "  padding-left: 0.5em;\n",
       "}\n",
       "\n",
       ".xr-section-summary-in:disabled + label {\n",
       "  color: var(--xr-font-color2);\n",
       "}\n",
       "\n",
       ".xr-section-summary-in + label:before {\n",
       "  display: inline-block;\n",
       "  content: '►';\n",
       "  font-size: 11px;\n",
       "  width: 15px;\n",
       "  text-align: center;\n",
       "}\n",
       "\n",
       ".xr-section-summary-in:disabled + label:before {\n",
       "  color: var(--xr-disabled-color);\n",
       "}\n",
       "\n",
       ".xr-section-summary-in:checked + label:before {\n",
       "  content: '▼';\n",
       "}\n",
       "\n",
       ".xr-section-summary-in:checked + label > span {\n",
       "  display: none;\n",
       "}\n",
       "\n",
       ".xr-section-summary,\n",
       ".xr-section-inline-details {\n",
       "  padding-top: 4px;\n",
       "  padding-bottom: 4px;\n",
       "}\n",
       "\n",
       ".xr-section-inline-details {\n",
       "  grid-column: 2 / -1;\n",
       "}\n",
       "\n",
       ".xr-section-details {\n",
       "  display: none;\n",
       "  grid-column: 1 / -1;\n",
       "  margin-bottom: 5px;\n",
       "}\n",
       "\n",
       ".xr-section-summary-in:checked ~ .xr-section-details {\n",
       "  display: contents;\n",
       "}\n",
       "\n",
       ".xr-array-wrap {\n",
       "  grid-column: 1 / -1;\n",
       "  display: grid;\n",
       "  grid-template-columns: 20px auto;\n",
       "}\n",
       "\n",
       ".xr-array-wrap > label {\n",
       "  grid-column: 1;\n",
       "  vertical-align: top;\n",
       "}\n",
       "\n",
       ".xr-preview {\n",
       "  color: var(--xr-font-color3);\n",
       "}\n",
       "\n",
       ".xr-array-preview,\n",
       ".xr-array-data {\n",
       "  padding: 0 5px !important;\n",
       "  grid-column: 2;\n",
       "}\n",
       "\n",
       ".xr-array-data,\n",
       ".xr-array-in:checked ~ .xr-array-preview {\n",
       "  display: none;\n",
       "}\n",
       "\n",
       ".xr-array-in:checked ~ .xr-array-data,\n",
       ".xr-array-preview {\n",
       "  display: inline-block;\n",
       "}\n",
       "\n",
       ".xr-dim-list {\n",
       "  display: inline-block !important;\n",
       "  list-style: none;\n",
       "  padding: 0 !important;\n",
       "  margin: 0;\n",
       "}\n",
       "\n",
       ".xr-dim-list li {\n",
       "  display: inline-block;\n",
       "  padding: 0;\n",
       "  margin: 0;\n",
       "}\n",
       "\n",
       ".xr-dim-list:before {\n",
       "  content: '(';\n",
       "}\n",
       "\n",
       ".xr-dim-list:after {\n",
       "  content: ')';\n",
       "}\n",
       "\n",
       ".xr-dim-list li:not(:last-child):after {\n",
       "  content: ',';\n",
       "  padding-right: 5px;\n",
       "}\n",
       "\n",
       ".xr-has-index {\n",
       "  font-weight: bold;\n",
       "}\n",
       "\n",
       ".xr-var-list,\n",
       ".xr-var-item {\n",
       "  display: contents;\n",
       "}\n",
       "\n",
       ".xr-var-item > div,\n",
       ".xr-var-item label,\n",
       ".xr-var-item > .xr-var-name span {\n",
       "  background-color: var(--xr-background-color-row-even);\n",
       "  margin-bottom: 0;\n",
       "}\n",
       "\n",
       ".xr-var-item > .xr-var-name:hover span {\n",
       "  padding-right: 5px;\n",
       "}\n",
       "\n",
       ".xr-var-list > li:nth-child(odd) > div,\n",
       ".xr-var-list > li:nth-child(odd) > label,\n",
       ".xr-var-list > li:nth-child(odd) > .xr-var-name span {\n",
       "  background-color: var(--xr-background-color-row-odd);\n",
       "}\n",
       "\n",
       ".xr-var-name {\n",
       "  grid-column: 1;\n",
       "}\n",
       "\n",
       ".xr-var-dims {\n",
       "  grid-column: 2;\n",
       "}\n",
       "\n",
       ".xr-var-dtype {\n",
       "  grid-column: 3;\n",
       "  text-align: right;\n",
       "  color: var(--xr-font-color2);\n",
       "}\n",
       "\n",
       ".xr-var-preview {\n",
       "  grid-column: 4;\n",
       "}\n",
       "\n",
       ".xr-index-preview {\n",
       "  grid-column: 2 / 5;\n",
       "  color: var(--xr-font-color2);\n",
       "}\n",
       "\n",
       ".xr-var-name,\n",
       ".xr-var-dims,\n",
       ".xr-var-dtype,\n",
       ".xr-preview,\n",
       ".xr-attrs dt {\n",
       "  white-space: nowrap;\n",
       "  overflow: hidden;\n",
       "  text-overflow: ellipsis;\n",
       "  padding-right: 10px;\n",
       "}\n",
       "\n",
       ".xr-var-name:hover,\n",
       ".xr-var-dims:hover,\n",
       ".xr-var-dtype:hover,\n",
       ".xr-attrs dt:hover {\n",
       "  overflow: visible;\n",
       "  width: auto;\n",
       "  z-index: 1;\n",
       "}\n",
       "\n",
       ".xr-var-attrs,\n",
       ".xr-var-data,\n",
       ".xr-index-data {\n",
       "  display: none;\n",
       "  background-color: var(--xr-background-color) !important;\n",
       "  padding-bottom: 5px !important;\n",
       "}\n",
       "\n",
       ".xr-var-attrs-in:checked ~ .xr-var-attrs,\n",
       ".xr-var-data-in:checked ~ .xr-var-data,\n",
       ".xr-index-data-in:checked ~ .xr-index-data {\n",
       "  display: block;\n",
       "}\n",
       "\n",
       ".xr-var-data > table {\n",
       "  float: right;\n",
       "}\n",
       "\n",
       ".xr-var-name span,\n",
       ".xr-var-data,\n",
       ".xr-index-name div,\n",
       ".xr-index-data,\n",
       ".xr-attrs {\n",
       "  padding-left: 25px !important;\n",
       "}\n",
       "\n",
       ".xr-attrs,\n",
       ".xr-var-attrs,\n",
       ".xr-var-data,\n",
       ".xr-index-data {\n",
       "  grid-column: 1 / -1;\n",
       "}\n",
       "\n",
       "dl.xr-attrs {\n",
       "  padding: 0;\n",
       "  margin: 0;\n",
       "  display: grid;\n",
       "  grid-template-columns: 125px auto;\n",
       "}\n",
       "\n",
       ".xr-attrs dt,\n",
       ".xr-attrs dd {\n",
       "  padding: 0;\n",
       "  margin: 0;\n",
       "  float: left;\n",
       "  padding-right: 10px;\n",
       "  width: auto;\n",
       "}\n",
       "\n",
       ".xr-attrs dt {\n",
       "  font-weight: normal;\n",
       "  grid-column: 1;\n",
       "}\n",
       "\n",
       ".xr-attrs dt:hover span {\n",
       "  display: inline-block;\n",
       "  background: var(--xr-background-color);\n",
       "  padding-right: 10px;\n",
       "}\n",
       "\n",
       ".xr-attrs dd {\n",
       "  grid-column: 2;\n",
       "  white-space: pre-wrap;\n",
       "  word-break: break-all;\n",
       "}\n",
       "\n",
       ".xr-icon-database,\n",
       ".xr-icon-file-text2,\n",
       ".xr-no-icon {\n",
       "  display: inline-block;\n",
       "  vertical-align: middle;\n",
       "  width: 1em;\n",
       "  height: 1.5em !important;\n",
       "  stroke-width: 0;\n",
       "  stroke: currentColor;\n",
       "  fill: currentColor;\n",
       "}\n",
       "</style><pre class='xr-text-repr-fallback'>&lt;xarray.DataArray (time: 53)&gt; Size: 424B\n",
       "array([1.17212391, 1.62847196, 0.54842037, 3.72367508, 3.85176251,\n",
       "       3.76607653, 0.71378449, 1.48159706, 2.34697186, 2.45331199,\n",
       "       1.01697276, 3.54208401, 3.83439972, 3.74699264, 1.10730037,\n",
       "       2.04747337, 2.91128705, 3.9489285 , 0.50764016, 3.11085002,\n",
       "       3.8176237 , 1.72144637, 1.43587668, 3.20361718, 3.54597166,\n",
       "       3.2411642 , 0.34021291, 2.79148232, 4.00304311, 3.48588471,\n",
       "       0.50622744, 1.83069569, 2.59941696, 0.20126265, 1.23625578,\n",
       "       5.68924296, 7.507064  , 5.34357861, 1.31442819, 1.52665453,\n",
       "       3.10016144, 3.28982852, 2.2492696 , 3.66033967, 4.8856465 ,\n",
       "       3.9965501 , 2.29664663, 2.25981342, 2.87234329, 1.49101173,\n",
       "       3.98924647, 0.85416737, 2.44422688])\n",
       "Coordinates:\n",
       "  * time     (time) datetime64[ns] 424B 2024-06-11 ... 2024-06-18\n",
       "    lat      float64 8B 37.0\n",
       "    lon      float64 8B 28.25</pre><div class='xr-wrap' style='display:none'><div class='xr-header'><div class='xr-obj-type'>xarray.DataArray</div><div class='xr-array-name'></div><ul class='xr-dim-list'><li><span class='xr-has-index'>time</span>: 53</li></ul></div><ul class='xr-sections'><li class='xr-section-item'><div class='xr-array-wrap'><input id='section-327d1f19-3277-4310-a6d5-67e246e779e7' class='xr-array-in' type='checkbox' checked><label for='section-327d1f19-3277-4310-a6d5-67e246e779e7' title='Show/hide data repr'><svg class='icon xr-icon-database'><use xlink:href='#icon-database'></use></svg></label><div class='xr-array-preview xr-preview'><span>1.172 1.628 0.5484 3.724 3.852 ... 2.872 1.491 3.989 0.8542 2.444</span></div><div class='xr-array-data'><pre>array([1.17212391, 1.62847196, 0.54842037, 3.72367508, 3.85176251,\n",
       "       3.76607653, 0.71378449, 1.48159706, 2.34697186, 2.45331199,\n",
       "       1.01697276, 3.54208401, 3.83439972, 3.74699264, 1.10730037,\n",
       "       2.04747337, 2.91128705, 3.9489285 , 0.50764016, 3.11085002,\n",
       "       3.8176237 , 1.72144637, 1.43587668, 3.20361718, 3.54597166,\n",
       "       3.2411642 , 0.34021291, 2.79148232, 4.00304311, 3.48588471,\n",
       "       0.50622744, 1.83069569, 2.59941696, 0.20126265, 1.23625578,\n",
       "       5.68924296, 7.507064  , 5.34357861, 1.31442819, 1.52665453,\n",
       "       3.10016144, 3.28982852, 2.2492696 , 3.66033967, 4.8856465 ,\n",
       "       3.9965501 , 2.29664663, 2.25981342, 2.87234329, 1.49101173,\n",
       "       3.98924647, 0.85416737, 2.44422688])</pre></div></div></li><li class='xr-section-item'><input id='section-dcc758b8-e475-4114-9697-e7c1d699aa3f' class='xr-section-summary-in' type='checkbox'  checked><label for='section-dcc758b8-e475-4114-9697-e7c1d699aa3f' class='xr-section-summary' >Coordinates: <span>(3)</span></label><div class='xr-section-inline-details'></div><div class='xr-section-details'><ul class='xr-var-list'><li class='xr-var-item'><div class='xr-var-name'><span class='xr-has-index'>time</span></div><div class='xr-var-dims'>(time)</div><div class='xr-var-dtype'>datetime64[ns]</div><div class='xr-var-preview xr-preview'>2024-06-11 ... 2024-06-18</div><input id='attrs-f92b5aa5-e248-44b8-b4c8-732300d6414b' class='xr-var-attrs-in' type='checkbox' disabled><label for='attrs-f92b5aa5-e248-44b8-b4c8-732300d6414b' title='Show/Hide attributes'><svg class='icon xr-icon-file-text2'><use xlink:href='#icon-file-text2'></use></svg></label><input id='data-90f9f449-0fe6-488d-bac4-e1897c7e0901' class='xr-var-data-in' type='checkbox'><label for='data-90f9f449-0fe6-488d-bac4-e1897c7e0901' title='Show/Hide data repr'><svg class='icon xr-icon-database'><use xlink:href='#icon-database'></use></svg></label><div class='xr-var-attrs'><dl class='xr-attrs'></dl></div><div class='xr-var-data'><pre>array([&#x27;2024-06-11T00:00:00.000000000&#x27;, &#x27;2024-06-11T03:00:00.000000000&#x27;,\n",
       "       &#x27;2024-06-11T06:00:00.000000000&#x27;, &#x27;2024-06-11T09:00:00.000000000&#x27;,\n",
       "       &#x27;2024-06-11T12:00:00.000000000&#x27;, &#x27;2024-06-11T15:00:00.000000000&#x27;,\n",
       "       &#x27;2024-06-11T18:00:00.000000000&#x27;, &#x27;2024-06-11T21:00:00.000000000&#x27;,\n",
       "       &#x27;2024-06-12T00:00:00.000000000&#x27;, &#x27;2024-06-12T03:00:00.000000000&#x27;,\n",
       "       &#x27;2024-06-12T06:00:00.000000000&#x27;, &#x27;2024-06-12T09:00:00.000000000&#x27;,\n",
       "       &#x27;2024-06-12T12:00:00.000000000&#x27;, &#x27;2024-06-12T15:00:00.000000000&#x27;,\n",
       "       &#x27;2024-06-12T18:00:00.000000000&#x27;, &#x27;2024-06-12T21:00:00.000000000&#x27;,\n",
       "       &#x27;2024-06-13T00:00:00.000000000&#x27;, &#x27;2024-06-13T03:00:00.000000000&#x27;,\n",
       "       &#x27;2024-06-13T06:00:00.000000000&#x27;, &#x27;2024-06-13T09:00:00.000000000&#x27;,\n",
       "       &#x27;2024-06-13T12:00:00.000000000&#x27;, &#x27;2024-06-13T15:00:00.000000000&#x27;,\n",
       "       &#x27;2024-06-13T18:00:00.000000000&#x27;, &#x27;2024-06-13T21:00:00.000000000&#x27;,\n",
       "       &#x27;2024-06-14T00:00:00.000000000&#x27;, &#x27;2024-06-14T03:00:00.000000000&#x27;,\n",
       "       &#x27;2024-06-14T06:00:00.000000000&#x27;, &#x27;2024-06-14T09:00:00.000000000&#x27;,\n",
       "       &#x27;2024-06-14T12:00:00.000000000&#x27;, &#x27;2024-06-14T15:00:00.000000000&#x27;,\n",
       "       &#x27;2024-06-14T18:00:00.000000000&#x27;, &#x27;2024-06-14T21:00:00.000000000&#x27;,\n",
       "       &#x27;2024-06-15T00:00:00.000000000&#x27;, &#x27;2024-06-15T03:00:00.000000000&#x27;,\n",
       "       &#x27;2024-06-15T06:00:00.000000000&#x27;, &#x27;2024-06-15T09:00:00.000000000&#x27;,\n",
       "       &#x27;2024-06-15T12:00:00.000000000&#x27;, &#x27;2024-06-15T15:00:00.000000000&#x27;,\n",
       "       &#x27;2024-06-15T18:00:00.000000000&#x27;, &#x27;2024-06-15T21:00:00.000000000&#x27;,\n",
       "       &#x27;2024-06-16T00:00:00.000000000&#x27;, &#x27;2024-06-16T03:00:00.000000000&#x27;,\n",
       "       &#x27;2024-06-16T06:00:00.000000000&#x27;, &#x27;2024-06-16T09:00:00.000000000&#x27;,\n",
       "       &#x27;2024-06-16T12:00:00.000000000&#x27;, &#x27;2024-06-16T15:00:00.000000000&#x27;,\n",
       "       &#x27;2024-06-16T18:00:00.000000000&#x27;, &#x27;2024-06-16T21:00:00.000000000&#x27;,\n",
       "       &#x27;2024-06-17T00:00:00.000000000&#x27;, &#x27;2024-06-17T06:00:00.000000000&#x27;,\n",
       "       &#x27;2024-06-17T12:00:00.000000000&#x27;, &#x27;2024-06-17T18:00:00.000000000&#x27;,\n",
       "       &#x27;2024-06-18T00:00:00.000000000&#x27;], dtype=&#x27;datetime64[ns]&#x27;)</pre></div></li><li class='xr-var-item'><div class='xr-var-name'><span>lat</span></div><div class='xr-var-dims'>()</div><div class='xr-var-dtype'>float64</div><div class='xr-var-preview xr-preview'>37.0</div><input id='attrs-e1508007-1b78-4d97-98c8-72affd4a96da' class='xr-var-attrs-in' type='checkbox' disabled><label for='attrs-e1508007-1b78-4d97-98c8-72affd4a96da' title='Show/Hide attributes'><svg class='icon xr-icon-file-text2'><use xlink:href='#icon-file-text2'></use></svg></label><input id='data-6ee1fe8d-7fd2-44bf-b0ea-bf92d7cdb6af' class='xr-var-data-in' type='checkbox'><label for='data-6ee1fe8d-7fd2-44bf-b0ea-bf92d7cdb6af' title='Show/Hide data repr'><svg class='icon xr-icon-database'><use xlink:href='#icon-database'></use></svg></label><div class='xr-var-attrs'><dl class='xr-attrs'></dl></div><div class='xr-var-data'><pre>array(37.)</pre></div></li><li class='xr-var-item'><div class='xr-var-name'><span>lon</span></div><div class='xr-var-dims'>()</div><div class='xr-var-dtype'>float64</div><div class='xr-var-preview xr-preview'>28.25</div><input id='attrs-8103ed6e-0e22-4301-9b13-a585f2869517' class='xr-var-attrs-in' type='checkbox' disabled><label for='attrs-8103ed6e-0e22-4301-9b13-a585f2869517' title='Show/Hide attributes'><svg class='icon xr-icon-file-text2'><use xlink:href='#icon-file-text2'></use></svg></label><input id='data-459c7a54-9e93-48f1-8664-82ffab2f96cb' class='xr-var-data-in' type='checkbox'><label for='data-459c7a54-9e93-48f1-8664-82ffab2f96cb' title='Show/Hide data repr'><svg class='icon xr-icon-database'><use xlink:href='#icon-database'></use></svg></label><div class='xr-var-attrs'><dl class='xr-attrs'></dl></div><div class='xr-var-data'><pre>array(28.25)</pre></div></li></ul></div></li><li class='xr-section-item'><input id='section-bfd882a2-b75e-4397-99f3-01e195b0904d' class='xr-section-summary-in' type='checkbox'  ><label for='section-bfd882a2-b75e-4397-99f3-01e195b0904d' class='xr-section-summary' >Indexes: <span>(1)</span></label><div class='xr-section-inline-details'></div><div class='xr-section-details'><ul class='xr-var-list'><li class='xr-var-item'><div class='xr-index-name'><div>time</div></div><div class='xr-index-preview'>PandasIndex</div><div></div><input id='index-f19ad404-f1e4-4de7-ac5a-51d6c13990ee' class='xr-index-data-in' type='checkbox'/><label for='index-f19ad404-f1e4-4de7-ac5a-51d6c13990ee' title='Show/Hide index repr'><svg class='icon xr-icon-database'><use xlink:href='#icon-database'></use></svg></label><div class='xr-index-data'><pre>PandasIndex(DatetimeIndex([&#x27;2024-06-11 00:00:00&#x27;, &#x27;2024-06-11 03:00:00&#x27;,\n",
       "               &#x27;2024-06-11 06:00:00&#x27;, &#x27;2024-06-11 09:00:00&#x27;,\n",
       "               &#x27;2024-06-11 12:00:00&#x27;, &#x27;2024-06-11 15:00:00&#x27;,\n",
       "               &#x27;2024-06-11 18:00:00&#x27;, &#x27;2024-06-11 21:00:00&#x27;,\n",
       "               &#x27;2024-06-12 00:00:00&#x27;, &#x27;2024-06-12 03:00:00&#x27;,\n",
       "               &#x27;2024-06-12 06:00:00&#x27;, &#x27;2024-06-12 09:00:00&#x27;,\n",
       "               &#x27;2024-06-12 12:00:00&#x27;, &#x27;2024-06-12 15:00:00&#x27;,\n",
       "               &#x27;2024-06-12 18:00:00&#x27;, &#x27;2024-06-12 21:00:00&#x27;,\n",
       "               &#x27;2024-06-13 00:00:00&#x27;, &#x27;2024-06-13 03:00:00&#x27;,\n",
       "               &#x27;2024-06-13 06:00:00&#x27;, &#x27;2024-06-13 09:00:00&#x27;,\n",
       "               &#x27;2024-06-13 12:00:00&#x27;, &#x27;2024-06-13 15:00:00&#x27;,\n",
       "               &#x27;2024-06-13 18:00:00&#x27;, &#x27;2024-06-13 21:00:00&#x27;,\n",
       "               &#x27;2024-06-14 00:00:00&#x27;, &#x27;2024-06-14 03:00:00&#x27;,\n",
       "               &#x27;2024-06-14 06:00:00&#x27;, &#x27;2024-06-14 09:00:00&#x27;,\n",
       "               &#x27;2024-06-14 12:00:00&#x27;, &#x27;2024-06-14 15:00:00&#x27;,\n",
       "               &#x27;2024-06-14 18:00:00&#x27;, &#x27;2024-06-14 21:00:00&#x27;,\n",
       "               &#x27;2024-06-15 00:00:00&#x27;, &#x27;2024-06-15 03:00:00&#x27;,\n",
       "               &#x27;2024-06-15 06:00:00&#x27;, &#x27;2024-06-15 09:00:00&#x27;,\n",
       "               &#x27;2024-06-15 12:00:00&#x27;, &#x27;2024-06-15 15:00:00&#x27;,\n",
       "               &#x27;2024-06-15 18:00:00&#x27;, &#x27;2024-06-15 21:00:00&#x27;,\n",
       "               &#x27;2024-06-16 00:00:00&#x27;, &#x27;2024-06-16 03:00:00&#x27;,\n",
       "               &#x27;2024-06-16 06:00:00&#x27;, &#x27;2024-06-16 09:00:00&#x27;,\n",
       "               &#x27;2024-06-16 12:00:00&#x27;, &#x27;2024-06-16 15:00:00&#x27;,\n",
       "               &#x27;2024-06-16 18:00:00&#x27;, &#x27;2024-06-16 21:00:00&#x27;,\n",
       "               &#x27;2024-06-17 00:00:00&#x27;, &#x27;2024-06-17 06:00:00&#x27;,\n",
       "               &#x27;2024-06-17 12:00:00&#x27;, &#x27;2024-06-17 18:00:00&#x27;,\n",
       "               &#x27;2024-06-18 00:00:00&#x27;],\n",
       "              dtype=&#x27;datetime64[ns]&#x27;, name=&#x27;time&#x27;, freq=None))</pre></div></li></ul></div></li><li class='xr-section-item'><input id='section-96395957-c5b3-444d-b51f-bf1d392893e6' class='xr-section-summary-in' type='checkbox' disabled ><label for='section-96395957-c5b3-444d-b51f-bf1d392893e6' class='xr-section-summary'  title='Expand/collapse section'>Attributes: <span>(0)</span></label><div class='xr-section-inline-details'></div><div class='xr-section-details'><dl class='xr-attrs'></dl></div></li></ul></div></div>"
      ],
      "text/plain": [
       "<xarray.DataArray (time: 53)> Size: 424B\n",
       "array([1.17212391, 1.62847196, 0.54842037, 3.72367508, 3.85176251,\n",
       "       3.76607653, 0.71378449, 1.48159706, 2.34697186, 2.45331199,\n",
       "       1.01697276, 3.54208401, 3.83439972, 3.74699264, 1.10730037,\n",
       "       2.04747337, 2.91128705, 3.9489285 , 0.50764016, 3.11085002,\n",
       "       3.8176237 , 1.72144637, 1.43587668, 3.20361718, 3.54597166,\n",
       "       3.2411642 , 0.34021291, 2.79148232, 4.00304311, 3.48588471,\n",
       "       0.50622744, 1.83069569, 2.59941696, 0.20126265, 1.23625578,\n",
       "       5.68924296, 7.507064  , 5.34357861, 1.31442819, 1.52665453,\n",
       "       3.10016144, 3.28982852, 2.2492696 , 3.66033967, 4.8856465 ,\n",
       "       3.9965501 , 2.29664663, 2.25981342, 2.87234329, 1.49101173,\n",
       "       3.98924647, 0.85416737, 2.44422688])\n",
       "Coordinates:\n",
       "  * time     (time) datetime64[ns] 424B 2024-06-11 ... 2024-06-18\n",
       "    lat      float64 8B 37.0\n",
       "    lon      float64 8B 28.25"
      ]
     },
     "execution_count": 8,
     "metadata": {},
     "output_type": "execute_result"
    }
   ],
   "source": [
    "# interested in winds speed at akayaka, Turkey (great place for kite surfing!)\n",
    "akyaka_coords = {\"lat\": 37.0557, \"lon\": 28.3242}\n",
    "pred_akyaka = pred.sel(lat=akyaka_coords[\"lat\"], lon=akyaka_coords[\"lon\"], method=\"nearest\")\n",
    "pred_wind_speed = (pred_akyaka.sel(channel=\"u10m\")**2 + pred_akyaka.sel(channel=\"v10m\")**2)**0.5\n",
    "pred_wind_speed     "
   ]
  },
  {
   "cell_type": "code",
   "execution_count": 9,
   "metadata": {},
   "outputs": [
    {
     "data": {
      "image/png": "[encoded data removed]",
      "text/plain": [
       "<Figure size 1200x600 with 1 Axes>"
      ]
     },
     "metadata": {},
     "output_type": "display_data"
    }
   ],
   "source": [
    "# plot wind speeds with forecast date times\n",
    "import matplotlib.pyplot as plt\n",
    "import pandas as pd\n",
    "\n",
    "plt.figure(figsize=(12, 6))\n",
    "plt.plot(pd.to_datetime(pred.time.values).strftime(\"%Y-%m-%d %H:%M\"), pred_wind_speed.values, \"--o\")\n",
    "plt.title(\"Wind Speed Forecast\")\n",
    "plt.xlabel(\"DateTime [UTC, YYYY-MM-DD HH:MM]\")\n",
    "plt.ylabel(\"Wind Speed (m/s)\")\n",
    "plt.xticks(rotation=90)\n",
    "plt.grid()\n",
    "plt.show()\n"
   ]
  },
  {
   "cell_type": "markdown",
   "metadata": {},
   "source": [
    "### SNIPE"
   ]
  },
  {
   "cell_type": "code",
   "execution_count": 10,
   "metadata": {},
   "outputs": [
    {
     "name": "stderr",
     "output_type": "stream",
     "text": [
      "\u001b[32m2024-06-26 15:06:34.668\u001b[0m | \u001b[1mINFO    \u001b[0m | \u001b[36mskyrim.libs.nwp.ifs\u001b[0m:\u001b[36msnipe\u001b[0m:\u001b[36m288\u001b[0m - \u001b[1mFetching for start_time: 2024-06-12 12:00:00\u001b[0m\n",
      "Fetching IFS for {start_time}: 0it [00:00, ?it/s]"
     ]
    },
    {
     "data": {
      "application/vnd.jupyter.widget-view+json": {
       "model_id": "a4bc78cb06fc49f780a1d3b48440dab1",
       "version_major": 2,
       "version_minor": 0
      },
      "text/plain": [
       "20240612120000-0h-oper-fc.grib2:   0%|          | 0.00/851k [00:00<?, ?B/s]"
      ]
     },
     "metadata": {},
     "output_type": "display_data"
    },
    {
     "name": "stderr",
     "output_type": "stream",
     "text": [
      "Fetching IFS for {start_time}: 1it [00:01,  1.60s/it]"
     ]
    },
    {
     "data": {
      "application/vnd.jupyter.widget-view+json": {
       "model_id": "9aa257c418244c668f91d8cb854e435c",
       "version_major": 2,
       "version_minor": 0
      },
      "text/plain": [
       "20240612120000-0h-oper-fc.grib2:   0%|          | 0.00/844k [00:00<?, ?B/s]"
      ]
     },
     "metadata": {},
     "output_type": "display_data"
    },
    {
     "name": "stderr",
     "output_type": "stream",
     "text": [
      "Fetching IFS for {start_time}: 2it [00:02,  1.27s/it]"
     ]
    },
    {
     "data": {
      "application/vnd.jupyter.widget-view+json": {
       "model_id": "f4f6d2ea50be4bc684f47ece5495ebbc",
       "version_major": 2,
       "version_minor": 0
      },
      "text/plain": [
       "20240612120000-0h-oper-fc.grib2:   0%|          | 0.00/642k [00:00<?, ?B/s]"
      ]
     },
     "metadata": {},
     "output_type": "display_data"
    },
    {
     "name": "stderr",
     "output_type": "stream",
     "text": [
      "Fetching IFS for {start_time}: 3it [00:03,  1.15s/it]\n",
      "\u001b[32m2024-06-26 15:06:38.786\u001b[0m | \u001b[1mINFO    \u001b[0m | \u001b[36mskyrim.libs.nwp.ifs\u001b[0m:\u001b[36msnipe\u001b[0m:\u001b[36m288\u001b[0m - \u001b[1mFetching for start_time: 2024-06-12 06:00:00\u001b[0m\n",
      "Fetching IFS for {start_time}: 0it [00:00, ?it/s]"
     ]
    },
    {
     "data": {
      "application/vnd.jupyter.widget-view+json": {
       "model_id": "2936b0e513af4b0987ec355075314c44",
       "version_major": 2,
       "version_minor": 0
      },
      "text/plain": [
       "20240612060000-6h-scda-fc.grib2:   0%|          | 0.00/851k [00:00<?, ?B/s]"
      ]
     },
     "metadata": {},
     "output_type": "display_data"
    },
    {
     "name": "stderr",
     "output_type": "stream",
     "text": [
      "Fetching IFS for {start_time}: 1it [00:00,  1.08it/s]"
     ]
    },
    {
     "data": {
      "application/vnd.jupyter.widget-view+json": {
       "model_id": "e39fce18c84a495f893986287e6d70ad",
       "version_major": 2,
       "version_minor": 0
      },
      "text/plain": [
       "20240612060000-6h-scda-fc.grib2:   0%|          | 0.00/846k [00:00<?, ?B/s]"
      ]
     },
     "metadata": {},
     "output_type": "display_data"
    },
    {
     "name": "stderr",
     "output_type": "stream",
     "text": [
      "Fetching IFS for {start_time}: 2it [00:01,  1.16it/s]"
     ]
    },
    {
     "data": {
      "application/vnd.jupyter.widget-view+json": {
       "model_id": "c6974dd843df4964aa44ee6eecbe9269",
       "version_major": 2,
       "version_minor": 0
      },
      "text/plain": [
       "20240612060000-6h-scda-fc.grib2:   0%|          | 0.00/644k [00:00<?, ?B/s]"
      ]
     },
     "metadata": {},
     "output_type": "display_data"
    },
    {
     "name": "stderr",
     "output_type": "stream",
     "text": [
      "Fetching IFS for {start_time}: 3it [00:02,  1.18it/s]\n",
      "\u001b[32m2024-06-26 15:06:41.866\u001b[0m | \u001b[1mINFO    \u001b[0m | \u001b[36mskyrim.libs.nwp.ifs\u001b[0m:\u001b[36msnipe\u001b[0m:\u001b[36m288\u001b[0m - \u001b[1mFetching for start_time: 2024-06-12 00:00:00\u001b[0m\n",
      "Fetching IFS for {start_time}: 0it [00:00, ?it/s]"
     ]
    },
    {
     "data": {
      "application/vnd.jupyter.widget-view+json": {
       "model_id": "0025971a5d4642d98202d700fcd872f4",
       "version_major": 2,
       "version_minor": 0
      },
      "text/plain": [
       "20240612000000-12h-oper-fc.grib2:   0%|          | 0.00/851k [00:00<?, ?B/s]"
      ]
     },
     "metadata": {},
     "output_type": "display_data"
    },
    {
     "name": "stderr",
     "output_type": "stream",
     "text": [
      "Fetching IFS for {start_time}: 1it [00:01,  1.15s/it]"
     ]
    },
    {
     "data": {
      "application/vnd.jupyter.widget-view+json": {
       "model_id": "289ecbd3d4064bf087b604c7bef390d7",
       "version_major": 2,
       "version_minor": 0
      },
      "text/plain": [
       "20240612000000-12h-oper-fc.grib2:   0%|          | 0.00/844k [00:00<?, ?B/s]"
      ]
     },
     "metadata": {},
     "output_type": "display_data"
    },
    {
     "name": "stderr",
     "output_type": "stream",
     "text": [
      "Fetching IFS for {start_time}: 2it [00:01,  1.05it/s]"
     ]
    },
    {
     "data": {
      "application/vnd.jupyter.widget-view+json": {
       "model_id": "05112f317aa8484ebd575b21687c6f61",
       "version_major": 2,
       "version_minor": 0
      },
      "text/plain": [
       "20240612000000-12h-oper-fc.grib2:   0%|          | 0.00/644k [00:00<?, ?B/s]"
      ]
     },
     "metadata": {},
     "output_type": "display_data"
    },
    {
     "name": "stderr",
     "output_type": "stream",
     "text": [
      "Fetching IFS for {start_time}: 3it [00:02,  1.02it/s]\n",
      "\u001b[32m2024-06-26 15:06:45.583\u001b[0m | \u001b[1mINFO    \u001b[0m | \u001b[36mskyrim.libs.nwp.ifs\u001b[0m:\u001b[36msnipe\u001b[0m:\u001b[36m288\u001b[0m - \u001b[1mFetching for start_time: 2024-06-11 18:00:00\u001b[0m\n",
      "Fetching IFS for {start_time}: 0it [00:00, ?it/s]"
     ]
    },
    {
     "data": {
      "application/vnd.jupyter.widget-view+json": {
       "model_id": "8672e813d916434b980284df423da74a",
       "version_major": 2,
       "version_minor": 0
      },
      "text/plain": [
       "20240611180000-18h-scda-fc.grib2:   0%|          | 0.00/852k [00:00<?, ?B/s]"
      ]
     },
     "metadata": {},
     "output_type": "display_data"
    },
    {
     "name": "stderr",
     "output_type": "stream",
     "text": [
      "Fetching IFS for {start_time}: 1it [00:00,  1.19it/s]"
     ]
    },
    {
     "data": {
      "application/vnd.jupyter.widget-view+json": {
       "model_id": "d053feacce9b42f59afad69196827d9d",
       "version_major": 2,
       "version_minor": 0
      },
      "text/plain": [
       "20240611180000-18h-scda-fc.grib2:   0%|          | 0.00/845k [00:00<?, ?B/s]"
      ]
     },
     "metadata": {},
     "output_type": "display_data"
    },
    {
     "name": "stderr",
     "output_type": "stream",
     "text": [
      "Fetching IFS for {start_time}: 2it [00:02,  1.27s/it]"
     ]
    },
    {
     "data": {
      "application/vnd.jupyter.widget-view+json": {
       "model_id": "0982acebf3ee4180a858d392bf667f98",
       "version_major": 2,
       "version_minor": 0
      },
      "text/plain": [
       "20240611180000-18h-scda-fc.grib2:   0%|          | 0.00/645k [00:00<?, ?B/s]"
      ]
     },
     "metadata": {},
     "output_type": "display_data"
    },
    {
     "name": "stderr",
     "output_type": "stream",
     "text": [
      "Fetching IFS for {start_time}: 3it [00:03,  1.17s/it]\n",
      "\u001b[32m2024-06-26 15:06:49.712\u001b[0m | \u001b[1mINFO    \u001b[0m | \u001b[36mskyrim.libs.nwp.ifs\u001b[0m:\u001b[36msnipe\u001b[0m:\u001b[36m288\u001b[0m - \u001b[1mFetching for start_time: 2024-06-11 12:00:00\u001b[0m\n",
      "Fetching IFS for {start_time}: 0it [00:00, ?it/s]"
     ]
    },
    {
     "data": {
      "application/vnd.jupyter.widget-view+json": {
       "model_id": "a43837ee0eb54857a52eee99ade9d819",
       "version_major": 2,
       "version_minor": 0
      },
      "text/plain": [
       "20240611120000-24h-oper-fc.grib2:   0%|          | 0.00/852k [00:00<?, ?B/s]"
      ]
     },
     "metadata": {},
     "output_type": "display_data"
    },
    {
     "name": "stderr",
     "output_type": "stream",
     "text": [
      "Fetching IFS for {start_time}: 1it [00:00,  1.22it/s]"
     ]
    },
    {
     "data": {
      "application/vnd.jupyter.widget-view+json": {
       "model_id": "87266d1cc0c44411a098e319813cf8d4",
       "version_major": 2,
       "version_minor": 0
      },
      "text/plain": [
       "20240611120000-24h-oper-fc.grib2:   0%|          | 0.00/845k [00:00<?, ?B/s]"
      ]
     },
     "metadata": {},
     "output_type": "display_data"
    },
    {
     "name": "stderr",
     "output_type": "stream",
     "text": [
      "Fetching IFS for {start_time}: 2it [00:01,  1.07it/s]"
     ]
    },
    {
     "data": {
      "application/vnd.jupyter.widget-view+json": {
       "model_id": "9ccfc6b70424434e89ee8e550f1cd0fe",
       "version_major": 2,
       "version_minor": 0
      },
      "text/plain": [
       "20240611120000-24h-oper-fc.grib2:   0%|          | 0.00/645k [00:00<?, ?B/s]"
      ]
     },
     "metadata": {},
     "output_type": "display_data"
    },
    {
     "name": "stderr",
     "output_type": "stream",
     "text": [
      "Fetching IFS for {start_time}: 3it [00:02,  1.11it/s]\n",
      "\u001b[32m2024-06-26 15:06:53.154\u001b[0m | \u001b[1mINFO    \u001b[0m | \u001b[36mskyrim.libs.nwp.ifs\u001b[0m:\u001b[36msnipe\u001b[0m:\u001b[36m288\u001b[0m - \u001b[1mFetching for start_time: 2024-06-11 06:00:00\u001b[0m\n",
      "Fetching IFS for {start_time}: 0it [00:00, ?it/s]"
     ]
    },
    {
     "data": {
      "application/vnd.jupyter.widget-view+json": {
       "model_id": "c2d55acae4964ff89524a0fc6bcc8822",
       "version_major": 2,
       "version_minor": 0
      },
      "text/plain": [
       "20240611060000-30h-scda-fc.grib2:   0%|          | 0.00/852k [00:00<?, ?B/s]"
      ]
     },
     "metadata": {},
     "output_type": "display_data"
    },
    {
     "name": "stderr",
     "output_type": "stream",
     "text": [
      "Fetching IFS for {start_time}: 1it [00:00,  1.12it/s]"
     ]
    },
    {
     "data": {
      "application/vnd.jupyter.widget-view+json": {
       "model_id": "d911a963ea734e009f598cdb21ebbd22",
       "version_major": 2,
       "version_minor": 0
      },
      "text/plain": [
       "20240611060000-30h-scda-fc.grib2:   0%|          | 0.00/845k [00:00<?, ?B/s]"
      ]
     },
     "metadata": {},
     "output_type": "display_data"
    },
    {
     "name": "stderr",
     "output_type": "stream",
     "text": [
      "Fetching IFS for {start_time}: 2it [00:01,  1.12it/s]"
     ]
    },
    {
     "data": {
      "application/vnd.jupyter.widget-view+json": {
       "model_id": "545719967ca845c6974d73ca2ea95068",
       "version_major": 2,
       "version_minor": 0
      },
      "text/plain": [
       "20240611060000-30h-scda-fc.grib2:   0%|          | 0.00/645k [00:00<?, ?B/s]"
      ]
     },
     "metadata": {},
     "output_type": "display_data"
    },
    {
     "name": "stderr",
     "output_type": "stream",
     "text": [
      "Fetching IFS for {start_time}: 3it [00:02,  1.12it/s]\n",
      "\u001b[32m2024-06-26 15:06:56.528\u001b[0m | \u001b[1mINFO    \u001b[0m | \u001b[36mskyrim.libs.nwp.ifs\u001b[0m:\u001b[36msnipe\u001b[0m:\u001b[36m288\u001b[0m - \u001b[1mFetching for start_time: 2024-06-11 00:00:00\u001b[0m\n",
      "Fetching IFS for {start_time}: 0it [00:00, ?it/s]"
     ]
    },
    {
     "data": {
      "application/vnd.jupyter.widget-view+json": {
       "model_id": "c10da1f359f14d5e913077be722cd52a",
       "version_major": 2,
       "version_minor": 0
      },
      "text/plain": [
       "20240611000000-36h-oper-fc.grib2:   0%|          | 0.00/852k [00:00<?, ?B/s]"
      ]
     },
     "metadata": {},
     "output_type": "display_data"
    },
    {
     "name": "stderr",
     "output_type": "stream",
     "text": [
      "Fetching IFS for {start_time}: 1it [00:01,  1.26s/it]"
     ]
    },
    {
     "data": {
      "application/vnd.jupyter.widget-view+json": {
       "model_id": "91f7c49372164eef9be525b474edb766",
       "version_major": 2,
       "version_minor": 0
      },
      "text/plain": [
       "20240611000000-36h-oper-fc.grib2:   0%|          | 0.00/846k [00:00<?, ?B/s]"
      ]
     },
     "metadata": {},
     "output_type": "display_data"
    },
    {
     "name": "stderr",
     "output_type": "stream",
     "text": [
      "Fetching IFS for {start_time}: 2it [00:02,  1.01s/it]"
     ]
    },
    {
     "data": {
      "application/vnd.jupyter.widget-view+json": {
       "model_id": "b21ef63c0da042d2bbc7a9831756d1a5",
       "version_major": 2,
       "version_minor": 0
      },
      "text/plain": [
       "20240611000000-36h-oper-fc.grib2:   0%|          | 0.00/645k [00:00<?, ?B/s]"
      ]
     },
     "metadata": {},
     "output_type": "display_data"
    },
    {
     "name": "stderr",
     "output_type": "stream",
     "text": [
      "Fetching IFS for {start_time}: 3it [00:02,  1.08it/s]\n",
      "\u001b[32m2024-06-26 15:07:00.038\u001b[0m | \u001b[1mINFO    \u001b[0m | \u001b[36mskyrim.libs.nwp.ifs\u001b[0m:\u001b[36msnipe\u001b[0m:\u001b[36m288\u001b[0m - \u001b[1mFetching for start_time: 2024-06-10 18:00:00\u001b[0m\n",
      "Fetching IFS for {start_time}: 0it [00:00, ?it/s]"
     ]
    },
    {
     "data": {
      "application/vnd.jupyter.widget-view+json": {
       "model_id": "8ab9a18cabaf4c25946b15caed5c16d3",
       "version_major": 2,
       "version_minor": 0
      },
      "text/plain": [
       "20240610180000-42h-scda-fc.grib2:   0%|          | 0.00/852k [00:00<?, ?B/s]"
      ]
     },
     "metadata": {},
     "output_type": "display_data"
    },
    {
     "name": "stderr",
     "output_type": "stream",
     "text": [
      "Fetching IFS for {start_time}: 1it [00:00,  1.09it/s]"
     ]
    },
    {
     "data": {
      "application/vnd.jupyter.widget-view+json": {
       "model_id": "5bf5b228126249ff8bb518064ed0e1c8",
       "version_major": 2,
       "version_minor": 0
      },
      "text/plain": [
       "20240610180000-42h-scda-fc.grib2:   0%|          | 0.00/845k [00:00<?, ?B/s]"
      ]
     },
     "metadata": {},
     "output_type": "display_data"
    },
    {
     "name": "stderr",
     "output_type": "stream",
     "text": [
      "Fetching IFS for {start_time}: 2it [00:01,  1.19it/s]"
     ]
    },
    {
     "data": {
      "application/vnd.jupyter.widget-view+json": {
       "model_id": "f75a50d335f94c2d981bfdef956fac38",
       "version_major": 2,
       "version_minor": 0
      },
      "text/plain": [
       "20240610180000-42h-scda-fc.grib2:   0%|          | 0.00/646k [00:00<?, ?B/s]"
      ]
     },
     "metadata": {},
     "output_type": "display_data"
    },
    {
     "name": "stderr",
     "output_type": "stream",
     "text": [
      "Fetching IFS for {start_time}: 3it [00:02,  1.26it/s]\n",
      "\u001b[32m2024-06-26 15:07:02.976\u001b[0m | \u001b[1mINFO    \u001b[0m | \u001b[36mskyrim.libs.nwp.ifs\u001b[0m:\u001b[36msnipe\u001b[0m:\u001b[36m288\u001b[0m - \u001b[1mFetching for start_time: 2024-06-10 12:00:00\u001b[0m\n",
      "Fetching IFS for {start_time}: 0it [00:00, ?it/s]"
     ]
    },
    {
     "data": {
      "application/vnd.jupyter.widget-view+json": {
       "model_id": "60c7d74f2fd0407a9db0ca80839a77c9",
       "version_major": 2,
       "version_minor": 0
      },
      "text/plain": [
       "20240610120000-48h-oper-fc.grib2:   0%|          | 0.00/852k [00:00<?, ?B/s]"
      ]
     },
     "metadata": {},
     "output_type": "display_data"
    },
    {
     "name": "stderr",
     "output_type": "stream",
     "text": [
      "Fetching IFS for {start_time}: 1it [00:00,  1.15it/s]"
     ]
    },
    {
     "data": {
      "application/vnd.jupyter.widget-view+json": {
       "model_id": "648769d81c1c4c309245dddfa874a9d5",
       "version_major": 2,
       "version_minor": 0
      },
      "text/plain": [
       "20240610120000-48h-oper-fc.grib2:   0%|          | 0.00/846k [00:00<?, ?B/s]"
      ]
     },
     "metadata": {},
     "output_type": "display_data"
    },
    {
     "name": "stderr",
     "output_type": "stream",
     "text": [
      "Fetching IFS for {start_time}: 2it [00:02,  1.46s/it]"
     ]
    },
    {
     "data": {
      "application/vnd.jupyter.widget-view+json": {
       "model_id": "766b6192a1e4452592b54f6db9b133e5",
       "version_major": 2,
       "version_minor": 0
      },
      "text/plain": [
       "20240610120000-48h-oper-fc.grib2:   0%|          | 0.00/646k [00:00<?, ?B/s]"
      ]
     },
     "metadata": {},
     "output_type": "display_data"
    },
    {
     "name": "stderr",
     "output_type": "stream",
     "text": [
      "Fetching IFS for {start_time}: 3it [00:03,  1.23s/it]\n",
      "\u001b[32m2024-06-26 15:07:07.375\u001b[0m | \u001b[1mINFO    \u001b[0m | \u001b[36mskyrim.libs.nwp.ifs\u001b[0m:\u001b[36msnipe\u001b[0m:\u001b[36m288\u001b[0m - \u001b[1mFetching for start_time: 2024-06-10 06:00:00\u001b[0m\n",
      "Fetching IFS for {start_time}: 0it [00:00, ?it/s]"
     ]
    },
    {
     "data": {
      "application/vnd.jupyter.widget-view+json": {
       "model_id": "0e6c0ff17a944befbeb8b9c2ba9e130b",
       "version_major": 2,
       "version_minor": 0
      },
      "text/plain": [
       "20240610060000-54h-scda-fc.grib2:   0%|          | 0.00/851k [00:00<?, ?B/s]"
      ]
     },
     "metadata": {},
     "output_type": "display_data"
    },
    {
     "name": "stderr",
     "output_type": "stream",
     "text": [
      "Fetching IFS for {start_time}: 1it [00:01,  1.24s/it]"
     ]
    },
    {
     "data": {
      "application/vnd.jupyter.widget-view+json": {
       "model_id": "e640a673d17a460abfd7d1ecbe3537d1",
       "version_major": 2,
       "version_minor": 0
      },
      "text/plain": [
       "20240610060000-54h-scda-fc.grib2:   0%|          | 0.00/845k [00:00<?, ?B/s]"
      ]
     },
     "metadata": {},
     "output_type": "display_data"
    },
    {
     "name": "stderr",
     "output_type": "stream",
     "text": [
      "Fetching IFS for {start_time}: 2it [00:02,  1.05s/it]"
     ]
    },
    {
     "data": {
      "application/vnd.jupyter.widget-view+json": {
       "model_id": "ca5788ccd09e43b7a767f6089be3daec",
       "version_major": 2,
       "version_minor": 0
      },
      "text/plain": [
       "20240610060000-54h-scda-fc.grib2:   0%|          | 0.00/646k [00:00<?, ?B/s]"
      ]
     },
     "metadata": {},
     "output_type": "display_data"
    },
    {
     "name": "stderr",
     "output_type": "stream",
     "text": [
      "Fetching IFS for {start_time}: 3it [00:03,  1.01s/it]\n",
      "\u001b[32m2024-06-26 15:07:11.114\u001b[0m | \u001b[1mINFO    \u001b[0m | \u001b[36mskyrim.libs.nwp.ifs\u001b[0m:\u001b[36msnipe\u001b[0m:\u001b[36m288\u001b[0m - \u001b[1mFetching for start_time: 2024-06-10 00:00:00\u001b[0m\n",
      "Fetching IFS for {start_time}: 0it [00:00, ?it/s]"
     ]
    },
    {
     "data": {
      "application/vnd.jupyter.widget-view+json": {
       "model_id": "926e2fd0b81248c8a150d5b3913d0d78",
       "version_major": 2,
       "version_minor": 0
      },
      "text/plain": [
       "20240610000000-60h-oper-fc.grib2:   0%|          | 0.00/852k [00:00<?, ?B/s]"
      ]
     },
     "metadata": {},
     "output_type": "display_data"
    },
    {
     "name": "stderr",
     "output_type": "stream",
     "text": [
      "Fetching IFS for {start_time}: 1it [00:00,  1.02it/s]"
     ]
    },
    {
     "data": {
      "application/vnd.jupyter.widget-view+json": {
       "model_id": "0c6fb1e13a424133b6763b9edbb5d8a5",
       "version_major": 2,
       "version_minor": 0
      },
      "text/plain": [
       "20240610000000-60h-oper-fc.grib2:   0%|          | 0.00/845k [00:00<?, ?B/s]"
      ]
     },
     "metadata": {},
     "output_type": "display_data"
    },
    {
     "name": "stderr",
     "output_type": "stream",
     "text": [
      "Fetching IFS for {start_time}: 2it [00:01,  1.12it/s]"
     ]
    },
    {
     "data": {
      "application/vnd.jupyter.widget-view+json": {
       "model_id": "39908a451cfb41ff9c148212052a73f4",
       "version_major": 2,
       "version_minor": 0
      },
      "text/plain": [
       "20240610000000-60h-oper-fc.grib2:   0%|          | 0.00/646k [00:00<?, ?B/s]"
      ]
     },
     "metadata": {},
     "output_type": "display_data"
    },
    {
     "name": "stderr",
     "output_type": "stream",
     "text": [
      "Fetching IFS for {start_time}: 3it [00:02,  1.14it/s]\n",
      "\u001b[32m2024-06-26 15:07:14.311\u001b[0m | \u001b[1mINFO    \u001b[0m | \u001b[36mskyrim.libs.nwp.ifs\u001b[0m:\u001b[36msnipe\u001b[0m:\u001b[36m288\u001b[0m - \u001b[1mFetching for start_time: 2024-06-09 18:00:00\u001b[0m\n",
      "Fetching IFS for {start_time}: 0it [00:00, ?it/s]"
     ]
    },
    {
     "data": {
      "application/vnd.jupyter.widget-view+json": {
       "model_id": "166acfc7ab8b4ae0a6b8086f854289dd",
       "version_major": 2,
       "version_minor": 0
      },
      "text/plain": [
       "20240609180000-66h-scda-fc.grib2:   0%|          | 0.00/851k [00:00<?, ?B/s]"
      ]
     },
     "metadata": {},
     "output_type": "display_data"
    },
    {
     "name": "stderr",
     "output_type": "stream",
     "text": [
      "Fetching IFS for {start_time}: 1it [00:00,  1.09it/s]"
     ]
    },
    {
     "data": {
      "application/vnd.jupyter.widget-view+json": {
       "model_id": "47b8fe3f94294a6fb573dde391e85cb2",
       "version_major": 2,
       "version_minor": 0
      },
      "text/plain": [
       "20240609180000-66h-scda-fc.grib2:   0%|          | 0.00/846k [00:00<?, ?B/s]"
      ]
     },
     "metadata": {},
     "output_type": "display_data"
    },
    {
     "name": "stderr",
     "output_type": "stream",
     "text": [
      "Fetching IFS for {start_time}: 2it [00:01,  1.07it/s]"
     ]
    },
    {
     "data": {
      "application/vnd.jupyter.widget-view+json": {
       "model_id": "4d55384182d84e4b81da18a68ef47662",
       "version_major": 2,
       "version_minor": 0
      },
      "text/plain": [
       "20240609180000-66h-scda-fc.grib2:   0%|          | 0.00/646k [00:00<?, ?B/s]"
      ]
     },
     "metadata": {},
     "output_type": "display_data"
    },
    {
     "name": "stderr",
     "output_type": "stream",
     "text": [
      "Fetching IFS for {start_time}: 3it [00:02,  1.16it/s]\n",
      "\u001b[32m2024-06-26 15:07:17.604\u001b[0m | \u001b[1mINFO    \u001b[0m | \u001b[36mskyrim.libs.nwp.ifs\u001b[0m:\u001b[36msnipe\u001b[0m:\u001b[36m288\u001b[0m - \u001b[1mFetching for start_time: 2024-06-09 12:00:00\u001b[0m\n",
      "Fetching IFS for {start_time}: 0it [00:00, ?it/s]"
     ]
    },
    {
     "data": {
      "application/vnd.jupyter.widget-view+json": {
       "model_id": "d6468e1903a64e6e961a277454d9cafe",
       "version_major": 2,
       "version_minor": 0
      },
      "text/plain": [
       "20240609120000-72h-oper-fc.grib2:   0%|          | 0.00/852k [00:00<?, ?B/s]"
      ]
     },
     "metadata": {},
     "output_type": "display_data"
    },
    {
     "name": "stderr",
     "output_type": "stream",
     "text": [
      "Fetching IFS for {start_time}: 1it [00:00,  1.02it/s]"
     ]
    },
    {
     "data": {
      "application/vnd.jupyter.widget-view+json": {
       "model_id": "1925577558a54874921f793dcbaf1611",
       "version_major": 2,
       "version_minor": 0
      },
      "text/plain": [
       "20240609120000-72h-oper-fc.grib2:   0%|          | 0.00/846k [00:00<?, ?B/s]"
      ]
     },
     "metadata": {},
     "output_type": "display_data"
    },
    {
     "name": "stderr",
     "output_type": "stream",
     "text": [
      "Fetching IFS for {start_time}: 2it [00:01,  1.07it/s]"
     ]
    },
    {
     "data": {
      "application/vnd.jupyter.widget-view+json": {
       "model_id": "85a98dac4ced447f9296661ca7b97cec",
       "version_major": 2,
       "version_minor": 0
      },
      "text/plain": [
       "20240609120000-72h-oper-fc.grib2:   0%|          | 0.00/647k [00:00<?, ?B/s]"
      ]
     },
     "metadata": {},
     "output_type": "display_data"
    },
    {
     "name": "stderr",
     "output_type": "stream",
     "text": [
      "Fetching IFS for {start_time}: 3it [00:02,  1.13it/s]\n",
      "\u001b[32m2024-06-26 15:07:20.812\u001b[0m | \u001b[1mINFO    \u001b[0m | \u001b[36mskyrim.libs.nwp.ifs\u001b[0m:\u001b[36msnipe\u001b[0m:\u001b[36m288\u001b[0m - \u001b[1mFetching for start_time: 2024-06-09 06:00:00\u001b[0m\n",
      "Fetching IFS for {start_time}: 0it [00:00, ?it/s]"
     ]
    },
    {
     "data": {
      "application/vnd.jupyter.widget-view+json": {
       "model_id": "692996108dce4b5380fb81d8024fe969",
       "version_major": 2,
       "version_minor": 0
      },
      "text/plain": [
       "20240609060000-78h-scda-fc.grib2:   0%|          | 0.00/851k [00:00<?, ?B/s]"
      ]
     },
     "metadata": {},
     "output_type": "display_data"
    },
    {
     "name": "stderr",
     "output_type": "stream",
     "text": [
      "Fetching IFS for {start_time}: 1it [00:00,  1.08it/s]"
     ]
    },
    {
     "data": {
      "application/vnd.jupyter.widget-view+json": {
       "model_id": "feeee1dd7fcd48a1a5bb63a7321bf413",
       "version_major": 2,
       "version_minor": 0
      },
      "text/plain": [
       "20240609060000-78h-scda-fc.grib2:   0%|          | 0.00/845k [00:00<?, ?B/s]"
      ]
     },
     "metadata": {},
     "output_type": "display_data"
    },
    {
     "name": "stderr",
     "output_type": "stream",
     "text": [
      "Fetching IFS for {start_time}: 2it [00:01,  1.13it/s]"
     ]
    },
    {
     "data": {
      "application/vnd.jupyter.widget-view+json": {
       "model_id": "9b46a1e5d3be45e3b2d09035a4968456",
       "version_major": 2,
       "version_minor": 0
      },
      "text/plain": [
       "20240609060000-78h-scda-fc.grib2:   0%|          | 0.00/647k [00:00<?, ?B/s]"
      ]
     },
     "metadata": {},
     "output_type": "display_data"
    },
    {
     "name": "stderr",
     "output_type": "stream",
     "text": [
      "Fetching IFS for {start_time}: 3it [00:02,  1.20it/s]\n",
      "\u001b[32m2024-06-26 15:07:23.898\u001b[0m | \u001b[1mINFO    \u001b[0m | \u001b[36mskyrim.libs.nwp.ifs\u001b[0m:\u001b[36msnipe\u001b[0m:\u001b[36m288\u001b[0m - \u001b[1mFetching for start_time: 2024-06-09 00:00:00\u001b[0m\n",
      "Fetching IFS for {start_time}: 0it [00:00, ?it/s]"
     ]
    },
    {
     "data": {
      "application/vnd.jupyter.widget-view+json": {
       "model_id": "fd4b0d42fa7b4b1bb8ef0e63e716a20d",
       "version_major": 2,
       "version_minor": 0
      },
      "text/plain": [
       "20240609000000-84h-oper-fc.grib2:   0%|          | 0.00/851k [00:00<?, ?B/s]"
      ]
     },
     "metadata": {},
     "output_type": "display_data"
    },
    {
     "name": "stderr",
     "output_type": "stream",
     "text": [
      "Fetching IFS for {start_time}: 1it [00:01,  1.01s/it]"
     ]
    },
    {
     "data": {
      "application/vnd.jupyter.widget-view+json": {
       "model_id": "1d2e36e2b0a344eebe05cb11ba3d5c30",
       "version_major": 2,
       "version_minor": 0
      },
      "text/plain": [
       "20240609000000-84h-oper-fc.grib2:   0%|          | 0.00/845k [00:00<?, ?B/s]"
      ]
     },
     "metadata": {},
     "output_type": "display_data"
    },
    {
     "name": "stderr",
     "output_type": "stream",
     "text": [
      "Fetching IFS for {start_time}: 2it [00:01,  1.14it/s]"
     ]
    },
    {
     "data": {
      "application/vnd.jupyter.widget-view+json": {
       "model_id": "7e56d0a5a89a45ab81d71fc44a94b1e0",
       "version_major": 2,
       "version_minor": 0
      },
      "text/plain": [
       "20240609000000-84h-oper-fc.grib2:   0%|          | 0.00/647k [00:00<?, ?B/s]"
      ]
     },
     "metadata": {},
     "output_type": "display_data"
    },
    {
     "name": "stderr",
     "output_type": "stream",
     "text": [
      "Fetching IFS for {start_time}: 3it [00:02,  1.15it/s]\n",
      "\u001b[32m2024-06-26 15:07:27.116\u001b[0m | \u001b[1mINFO    \u001b[0m | \u001b[36mskyrim.libs.nwp.ifs\u001b[0m:\u001b[36msnipe\u001b[0m:\u001b[36m288\u001b[0m - \u001b[1mFetching for start_time: 2024-06-08 18:00:00\u001b[0m\n",
      "Fetching IFS for {start_time}: 0it [00:00, ?it/s]"
     ]
    },
    {
     "data": {
      "application/vnd.jupyter.widget-view+json": {
       "model_id": "981b2500a14d4e2c9b9fdce581064f14",
       "version_major": 2,
       "version_minor": 0
      },
      "text/plain": [
       "20240608180000-90h-scda-fc.grib2:   0%|          | 0.00/851k [00:00<?, ?B/s]"
      ]
     },
     "metadata": {},
     "output_type": "display_data"
    },
    {
     "name": "stderr",
     "output_type": "stream",
     "text": [
      "Fetching IFS for {start_time}: 1it [00:00,  1.16it/s]"
     ]
    },
    {
     "data": {
      "application/vnd.jupyter.widget-view+json": {
       "model_id": "ddb6745f858e46679669d0cdac220f0b",
       "version_major": 2,
       "version_minor": 0
      },
      "text/plain": [
       "20240608180000-90h-scda-fc.grib2:   0%|          | 0.00/846k [00:00<?, ?B/s]"
      ]
     },
     "metadata": {},
     "output_type": "display_data"
    },
    {
     "name": "stderr",
     "output_type": "stream",
     "text": [
      "Fetching IFS for {start_time}: 2it [00:01,  1.25it/s]"
     ]
    },
    {
     "data": {
      "application/vnd.jupyter.widget-view+json": {
       "model_id": "15139b00bdfb4b23b83de7349516c115",
       "version_major": 2,
       "version_minor": 0
      },
      "text/plain": [
       "20240608180000-90h-scda-fc.grib2:   0%|          | 0.00/647k [00:00<?, ?B/s]"
      ]
     },
     "metadata": {},
     "output_type": "display_data"
    },
    {
     "name": "stderr",
     "output_type": "stream",
     "text": [
      "Fetching IFS for {start_time}: 3it [00:02,  1.23it/s]\n",
      "\u001b[32m2024-06-26 15:07:30.129\u001b[0m | \u001b[1mINFO    \u001b[0m | \u001b[36mskyrim.libs.nwp.ifs\u001b[0m:\u001b[36msnipe\u001b[0m:\u001b[36m288\u001b[0m - \u001b[1mFetching for start_time: 2024-06-08 12:00:00\u001b[0m\n",
      "Fetching IFS for {start_time}: 0it [00:00, ?it/s]"
     ]
    },
    {
     "data": {
      "application/vnd.jupyter.widget-view+json": {
       "model_id": "a8fd5fbd6dd044ba988223d8fde25ee5",
       "version_major": 2,
       "version_minor": 0
      },
      "text/plain": [
       "20240608120000-96h-oper-fc.grib2:   0%|          | 0.00/852k [00:00<?, ?B/s]"
      ]
     },
     "metadata": {},
     "output_type": "display_data"
    },
    {
     "name": "stderr",
     "output_type": "stream",
     "text": [
      "Fetching IFS for {start_time}: 1it [00:01,  1.02s/it]"
     ]
    },
    {
     "data": {
      "application/vnd.jupyter.widget-view+json": {
       "model_id": "3f5ca08fd107495d95d319cdfabb7896",
       "version_major": 2,
       "version_minor": 0
      },
      "text/plain": [
       "20240608120000-96h-oper-fc.grib2:   0%|          | 0.00/847k [00:00<?, ?B/s]"
      ]
     },
     "metadata": {},
     "output_type": "display_data"
    },
    {
     "name": "stderr",
     "output_type": "stream",
     "text": [
      "Fetching IFS for {start_time}: 2it [00:01,  1.10it/s]"
     ]
    },
    {
     "data": {
      "application/vnd.jupyter.widget-view+json": {
       "model_id": "890a22aac4464553a86ec73b0a526665",
       "version_major": 2,
       "version_minor": 0
      },
      "text/plain": [
       "20240608120000-96h-oper-fc.grib2:   0%|          | 0.00/648k [00:00<?, ?B/s]"
      ]
     },
     "metadata": {},
     "output_type": "display_data"
    },
    {
     "name": "stderr",
     "output_type": "stream",
     "text": [
      "Fetching IFS for {start_time}: 3it [00:02,  1.01it/s]\n",
      "\u001b[32m2024-06-26 15:07:33.654\u001b[0m | \u001b[1mINFO    \u001b[0m | \u001b[36mskyrim.libs.nwp.ifs\u001b[0m:\u001b[36msnipe\u001b[0m:\u001b[36m288\u001b[0m - \u001b[1mFetching for start_time: 2024-06-08 06:00:00\u001b[0m\n",
      "\u001b[32m2024-06-26 15:07:33.999\u001b[0m | \u001b[33m\u001b[1mWARNING \u001b[0m | \u001b[36mskyrim.libs.nwp.ifs\u001b[0m:\u001b[36msnipe\u001b[0m:\u001b[36m295\u001b[0m - \u001b[33m\u001b[1mInvalid or unavailable forecast for start time: 2024-06-08 06:00:00, lead time: 102\u001b[0m\n",
      "\u001b[32m2024-06-26 15:07:33.999\u001b[0m | \u001b[1mINFO    \u001b[0m | \u001b[36mskyrim.libs.nwp.ifs\u001b[0m:\u001b[36msnipe\u001b[0m:\u001b[36m288\u001b[0m - \u001b[1mFetching for start_time: 2024-06-08 00:00:00\u001b[0m\n",
      "Fetching IFS for {start_time}: 0it [00:00, ?it/s]"
     ]
    },
    {
     "data": {
      "application/vnd.jupyter.widget-view+json": {
       "model_id": "d7b3e8ba3455423da23b769079afe95d",
       "version_major": 2,
       "version_minor": 0
      },
      "text/plain": [
       "20240608000000-108h-oper-fc.grib2:   0%|          | 0.00/852k [00:00<?, ?B/s]"
      ]
     },
     "metadata": {},
     "output_type": "display_data"
    },
    {
     "name": "stderr",
     "output_type": "stream",
     "text": [
      "Fetching IFS for {start_time}: 1it [00:00,  1.13it/s]"
     ]
    },
    {
     "data": {
      "application/vnd.jupyter.widget-view+json": {
       "model_id": "3f228eda82e7474fb12ac4d015fbbb59",
       "version_major": 2,
       "version_minor": 0
      },
      "text/plain": [
       "20240608000000-108h-oper-fc.grib2:   0%|          | 0.00/848k [00:00<?, ?B/s]"
      ]
     },
     "metadata": {},
     "output_type": "display_data"
    },
    {
     "name": "stderr",
     "output_type": "stream",
     "text": [
      "Fetching IFS for {start_time}: 2it [00:01,  1.13it/s]"
     ]
    },
    {
     "data": {
      "application/vnd.jupyter.widget-view+json": {
       "model_id": "065d43da7f2f4a1ea91144f2da34af8d",
       "version_major": 2,
       "version_minor": 0
      },
      "text/plain": [
       "20240608000000-108h-oper-fc.grib2:   0%|          | 0.00/648k [00:00<?, ?B/s]"
      ]
     },
     "metadata": {},
     "output_type": "display_data"
    },
    {
     "name": "stderr",
     "output_type": "stream",
     "text": [
      "Fetching IFS for {start_time}: 3it [00:02,  1.11it/s]\n",
      "\u001b[32m2024-06-26 15:07:37.425\u001b[0m | \u001b[1mINFO    \u001b[0m | \u001b[36mskyrim.libs.nwp.ifs\u001b[0m:\u001b[36msnipe\u001b[0m:\u001b[36m288\u001b[0m - \u001b[1mFetching for start_time: 2024-06-07 18:00:00\u001b[0m\n",
      "\u001b[32m2024-06-26 15:07:37.777\u001b[0m | \u001b[33m\u001b[1mWARNING \u001b[0m | \u001b[36mskyrim.libs.nwp.ifs\u001b[0m:\u001b[36msnipe\u001b[0m:\u001b[36m295\u001b[0m - \u001b[33m\u001b[1mInvalid or unavailable forecast for start time: 2024-06-07 18:00:00, lead time: 114\u001b[0m\n",
      "\u001b[32m2024-06-26 15:07:37.778\u001b[0m | \u001b[1mINFO    \u001b[0m | \u001b[36mskyrim.libs.nwp.ifs\u001b[0m:\u001b[36msnipe\u001b[0m:\u001b[36m288\u001b[0m - \u001b[1mFetching for start_time: 2024-06-07 12:00:00\u001b[0m\n",
      "Fetching IFS for {start_time}: 0it [00:00, ?it/s]"
     ]
    },
    {
     "data": {
      "application/vnd.jupyter.widget-view+json": {
       "model_id": "6ee852bde6ba4971a7a12c3c497ef948",
       "version_major": 2,
       "version_minor": 0
      },
      "text/plain": [
       "20240607120000-120h-oper-fc.grib2:   0%|          | 0.00/854k [00:00<?, ?B/s]"
      ]
     },
     "metadata": {},
     "output_type": "display_data"
    },
    {
     "name": "stderr",
     "output_type": "stream",
     "text": [
      "Fetching IFS for {start_time}: 1it [00:01,  1.39s/it]"
     ]
    },
    {
     "data": {
      "application/vnd.jupyter.widget-view+json": {
       "model_id": "cebc34b84b56404591b4ba907bef875b",
       "version_major": 2,
       "version_minor": 0
      },
      "text/plain": [
       "20240607120000-120h-oper-fc.grib2:   0%|          | 0.00/849k [00:00<?, ?B/s]"
      ]
     },
     "metadata": {},
     "output_type": "display_data"
    },
    {
     "name": "stderr",
     "output_type": "stream",
     "text": [
      "Fetching IFS for {start_time}: 2it [00:02,  1.10s/it]"
     ]
    },
    {
     "data": {
      "application/vnd.jupyter.widget-view+json": {
       "model_id": "eb5fdeb06c724767bf6e31f6fe6cbf43",
       "version_major": 2,
       "version_minor": 0
      },
      "text/plain": [
       "20240607120000-120h-oper-fc.grib2:   0%|          | 0.00/650k [00:00<?, ?B/s]"
      ]
     },
     "metadata": {},
     "output_type": "display_data"
    },
    {
     "name": "stderr",
     "output_type": "stream",
     "text": [
      "Fetching IFS for {start_time}: 3it [00:03,  1.16s/it]\n",
      "\u001b[32m2024-06-26 15:07:41.981\u001b[0m | \u001b[1mINFO    \u001b[0m | \u001b[36mskyrim.libs.nwp.ifs\u001b[0m:\u001b[36msnipe\u001b[0m:\u001b[36m288\u001b[0m - \u001b[1mFetching for start_time: 2024-06-07 06:00:00\u001b[0m\n",
      "\u001b[32m2024-06-26 15:07:42.388\u001b[0m | \u001b[33m\u001b[1mWARNING \u001b[0m | \u001b[36mskyrim.libs.nwp.ifs\u001b[0m:\u001b[36msnipe\u001b[0m:\u001b[36m295\u001b[0m - \u001b[33m\u001b[1mInvalid or unavailable forecast for start time: 2024-06-07 06:00:00, lead time: 126\u001b[0m\n",
      "\u001b[32m2024-06-26 15:07:42.389\u001b[0m | \u001b[1mINFO    \u001b[0m | \u001b[36mskyrim.libs.nwp.ifs\u001b[0m:\u001b[36msnipe\u001b[0m:\u001b[36m288\u001b[0m - \u001b[1mFetching for start_time: 2024-06-07 00:00:00\u001b[0m\n",
      "Fetching IFS for {start_time}: 0it [00:00, ?it/s]"
     ]
    },
    {
     "data": {
      "application/vnd.jupyter.widget-view+json": {
       "model_id": "f6b2b4a5d0244e07822213451db1c9df",
       "version_major": 2,
       "version_minor": 0
      },
      "text/plain": [
       "20240607000000-132h-oper-fc.grib2:   0%|          | 0.00/852k [00:00<?, ?B/s]"
      ]
     },
     "metadata": {},
     "output_type": "display_data"
    },
    {
     "name": "stderr",
     "output_type": "stream",
     "text": [
      "Fetching IFS for {start_time}: 1it [00:01,  1.06s/it]"
     ]
    },
    {
     "data": {
      "application/vnd.jupyter.widget-view+json": {
       "model_id": "e01ce600b8314bc68083ef9ab782a67d",
       "version_major": 2,
       "version_minor": 0
      },
      "text/plain": [
       "20240607000000-132h-oper-fc.grib2:   0%|          | 0.00/849k [00:00<?, ?B/s]"
      ]
     },
     "metadata": {},
     "output_type": "display_data"
    },
    {
     "name": "stderr",
     "output_type": "stream",
     "text": [
      "Fetching IFS for {start_time}: 2it [00:01,  1.04it/s]"
     ]
    },
    {
     "data": {
      "application/vnd.jupyter.widget-view+json": {
       "model_id": "edea3130f372454ba6ab28793d6d4cec",
       "version_major": 2,
       "version_minor": 0
      },
      "text/plain": [
       "20240607000000-132h-oper-fc.grib2:   0%|          | 0.00/649k [00:00<?, ?B/s]"
      ]
     },
     "metadata": {},
     "output_type": "display_data"
    },
    {
     "name": "stderr",
     "output_type": "stream",
     "text": [
      "Fetching IFS for {start_time}: 3it [00:02,  1.10it/s]\n",
      "\u001b[32m2024-06-26 15:07:45.807\u001b[0m | \u001b[1mINFO    \u001b[0m | \u001b[36mskyrim.libs.nwp.ifs\u001b[0m:\u001b[36msnipe\u001b[0m:\u001b[36m288\u001b[0m - \u001b[1mFetching for start_time: 2024-06-06 18:00:00\u001b[0m\n",
      "\u001b[32m2024-06-26 15:07:46.074\u001b[0m | \u001b[33m\u001b[1mWARNING \u001b[0m | \u001b[36mskyrim.libs.nwp.ifs\u001b[0m:\u001b[36msnipe\u001b[0m:\u001b[36m295\u001b[0m - \u001b[33m\u001b[1mInvalid or unavailable forecast for start time: 2024-06-06 18:00:00, lead time: 138\u001b[0m\n",
      "\u001b[32m2024-06-26 15:07:46.074\u001b[0m | \u001b[1mINFO    \u001b[0m | \u001b[36mskyrim.libs.nwp.ifs\u001b[0m:\u001b[36msnipe\u001b[0m:\u001b[36m288\u001b[0m - \u001b[1mFetching for start_time: 2024-06-06 12:00:00\u001b[0m\n",
      "Fetching IFS for {start_time}: 0it [00:00, ?it/s]"
     ]
    },
    {
     "data": {
      "application/vnd.jupyter.widget-view+json": {
       "model_id": "2e42cfa423084ed4a199e7dc32d92ac3",
       "version_major": 2,
       "version_minor": 0
      },
      "text/plain": [
       "20240606120000-144h-oper-fc.grib2:   0%|          | 0.00/852k [00:00<?, ?B/s]"
      ]
     },
     "metadata": {},
     "output_type": "display_data"
    },
    {
     "name": "stderr",
     "output_type": "stream",
     "text": [
      "Fetching IFS for {start_time}: 1it [00:00,  1.08it/s]"
     ]
    },
    {
     "data": {
      "application/vnd.jupyter.widget-view+json": {
       "model_id": "77a1ff9bbd50474085f49b6c3b7a9951",
       "version_major": 2,
       "version_minor": 0
      },
      "text/plain": [
       "20240606120000-144h-oper-fc.grib2:   0%|          | 0.00/844k [00:00<?, ?B/s]"
      ]
     },
     "metadata": {},
     "output_type": "display_data"
    },
    {
     "name": "stderr",
     "output_type": "stream",
     "text": [
      "Fetching IFS for {start_time}: 2it [00:01,  1.05it/s]"
     ]
    },
    {
     "data": {
      "application/vnd.jupyter.widget-view+json": {
       "model_id": "618455d0e1784bba8fe48bfdd3b799e5",
       "version_major": 2,
       "version_minor": 0
      },
      "text/plain": [
       "20240606120000-144h-oper-fc.grib2:   0%|          | 0.00/646k [00:00<?, ?B/s]"
      ]
     },
     "metadata": {},
     "output_type": "display_data"
    },
    {
     "name": "stderr",
     "output_type": "stream",
     "text": [
      "Fetching IFS for {start_time}: 3it [00:02,  1.11it/s]\n",
      "\u001b[32m2024-06-26 15:07:49.312\u001b[0m | \u001b[1mINFO    \u001b[0m | \u001b[36mskyrim.libs.nwp.ifs\u001b[0m:\u001b[36msnipe\u001b[0m:\u001b[36m288\u001b[0m - \u001b[1mFetching for start_time: 2024-06-06 06:00:00\u001b[0m\n",
      "\u001b[32m2024-06-26 15:07:49.596\u001b[0m | \u001b[33m\u001b[1mWARNING \u001b[0m | \u001b[36mskyrim.libs.nwp.ifs\u001b[0m:\u001b[36msnipe\u001b[0m:\u001b[36m295\u001b[0m - \u001b[33m\u001b[1mInvalid or unavailable forecast for start time: 2024-06-06 06:00:00, lead time: 150\u001b[0m\n",
      "\u001b[32m2024-06-26 15:07:49.597\u001b[0m | \u001b[1mINFO    \u001b[0m | \u001b[36mskyrim.libs.nwp.ifs\u001b[0m:\u001b[36msnipe\u001b[0m:\u001b[36m288\u001b[0m - \u001b[1mFetching for start_time: 2024-06-06 00:00:00\u001b[0m\n",
      "Fetching IFS for {start_time}: 0it [00:00, ?it/s]"
     ]
    },
    {
     "data": {
      "application/vnd.jupyter.widget-view+json": {
       "model_id": "35be7045e2304c2dafb64bbe1149693f",
       "version_major": 2,
       "version_minor": 0
      },
      "text/plain": [
       "20240606000000-156h-oper-fc.grib2:   0%|          | 0.00/849k [00:00<?, ?B/s]"
      ]
     },
     "metadata": {},
     "output_type": "display_data"
    },
    {
     "name": "stderr",
     "output_type": "stream",
     "text": [
      "Fetching IFS for {start_time}: 1it [00:00,  1.12it/s]"
     ]
    },
    {
     "data": {
      "application/vnd.jupyter.widget-view+json": {
       "model_id": "d544cea0cf274ce9afdd2a709fc2472e",
       "version_major": 2,
       "version_minor": 0
      },
      "text/plain": [
       "20240606000000-156h-oper-fc.grib2:   0%|          | 0.00/847k [00:00<?, ?B/s]"
      ]
     },
     "metadata": {},
     "output_type": "display_data"
    },
    {
     "name": "stderr",
     "output_type": "stream",
     "text": [
      "Fetching IFS for {start_time}: 2it [00:01,  1.25it/s]"
     ]
    },
    {
     "data": {
      "application/vnd.jupyter.widget-view+json": {
       "model_id": "35c1df2501a540ec90dedc3c8b3ca3ea",
       "version_major": 2,
       "version_minor": 0
      },
      "text/plain": [
       "20240606000000-156h-oper-fc.grib2:   0%|          | 0.00/646k [00:00<?, ?B/s]"
      ]
     },
     "metadata": {},
     "output_type": "display_data"
    },
    {
     "name": "stderr",
     "output_type": "stream",
     "text": [
      "Fetching IFS for {start_time}: 3it [00:02,  1.28it/s]\n",
      "\u001b[32m2024-06-26 15:07:52.481\u001b[0m | \u001b[1mINFO    \u001b[0m | \u001b[36mskyrim.libs.nwp.ifs\u001b[0m:\u001b[36msnipe\u001b[0m:\u001b[36m288\u001b[0m - \u001b[1mFetching for start_time: 2024-06-05 18:00:00\u001b[0m\n",
      "\u001b[32m2024-06-26 15:07:52.869\u001b[0m | \u001b[33m\u001b[1mWARNING \u001b[0m | \u001b[36mskyrim.libs.nwp.ifs\u001b[0m:\u001b[36msnipe\u001b[0m:\u001b[36m295\u001b[0m - \u001b[33m\u001b[1mInvalid or unavailable forecast for start time: 2024-06-05 18:00:00, lead time: 162\u001b[0m\n",
      "\u001b[32m2024-06-26 15:07:52.869\u001b[0m | \u001b[1mINFO    \u001b[0m | \u001b[36mskyrim.libs.nwp.ifs\u001b[0m:\u001b[36msnipe\u001b[0m:\u001b[36m288\u001b[0m - \u001b[1mFetching for start_time: 2024-06-05 12:00:00\u001b[0m\n",
      "Fetching IFS for {start_time}: 0it [00:00, ?it/s]"
     ]
    },
    {
     "data": {
      "application/vnd.jupyter.widget-view+json": {
       "model_id": "8923973c2c91463d9f29ab94c2283b92",
       "version_major": 2,
       "version_minor": 0
      },
      "text/plain": [
       "20240605120000-168h-oper-fc.grib2:   0%|          | 0.00/849k [00:00<?, ?B/s]"
      ]
     },
     "metadata": {},
     "output_type": "display_data"
    },
    {
     "name": "stderr",
     "output_type": "stream",
     "text": [
      "Fetching IFS for {start_time}: 1it [00:01,  1.09s/it]"
     ]
    },
    {
     "data": {
      "application/vnd.jupyter.widget-view+json": {
       "model_id": "91f9c6fe38cb44d1a4d3eff76dacc9ce",
       "version_major": 2,
       "version_minor": 0
      },
      "text/plain": [
       "20240605120000-168h-oper-fc.grib2:   0%|          | 0.00/847k [00:00<?, ?B/s]"
      ]
     },
     "metadata": {},
     "output_type": "display_data"
    },
    {
     "name": "stderr",
     "output_type": "stream",
     "text": [
      "Fetching IFS for {start_time}: 2it [00:01,  1.02it/s]"
     ]
    },
    {
     "data": {
      "application/vnd.jupyter.widget-view+json": {
       "model_id": "3e5b313bdbe34a42aa3df2ec556f7764",
       "version_major": 2,
       "version_minor": 0
      },
      "text/plain": [
       "20240605120000-168h-oper-fc.grib2:   0%|          | 0.00/645k [00:00<?, ?B/s]"
      ]
     },
     "metadata": {},
     "output_type": "display_data"
    },
    {
     "name": "stderr",
     "output_type": "stream",
     "text": [
      "Fetching IFS for {start_time}: 3it [00:02,  1.09it/s]\n"
     ]
    }
   ],
   "source": [
    "# if interested in specific date and time\n",
    "# model.clear_cache()\n",
    "preds_dict = model.snipe(target_date = \"20240612\", \n",
    "                         target_time= \"1200\", \n",
    "                         max_hours_back=24*7)"
   ]
  },
  {
   "cell_type": "code",
   "execution_count": 11,
   "metadata": {},
   "outputs": [
    {
     "name": "stdout",
     "output_type": "stream",
     "text": [
      "target_date: 20240612, target_time= 1200\n",
      "Forecast Start DateTime: 2024-06-12 12:00:00, Estimated Wind Speed: [3.71085696]\n",
      "Forecast Start DateTime: 2024-06-12 06:00:00, Estimated Wind Speed: [3.92185866]\n",
      "Forecast Start DateTime: 2024-06-12 00:00:00, Estimated Wind Speed: [4.0672767]\n",
      "Forecast Start DateTime: 2024-06-11 18:00:00, Estimated Wind Speed: [3.85858281]\n",
      "Forecast Start DateTime: 2024-06-11 12:00:00, Estimated Wind Speed: [3.80209119]\n",
      "Forecast Start DateTime: 2024-06-11 06:00:00, Estimated Wind Speed: [3.77831785]\n",
      "Forecast Start DateTime: 2024-06-11 00:00:00, Estimated Wind Speed: [3.83439972]\n",
      "Forecast Start DateTime: 2024-06-10 18:00:00, Estimated Wind Speed: [3.82775865]\n",
      "Forecast Start DateTime: 2024-06-10 12:00:00, Estimated Wind Speed: [4.2925233]\n",
      "Forecast Start DateTime: 2024-06-10 06:00:00, Estimated Wind Speed: [4.23230368]\n",
      "Forecast Start DateTime: 2024-06-10 00:00:00, Estimated Wind Speed: [4.13971324]\n",
      "Forecast Start DateTime: 2024-06-09 18:00:00, Estimated Wind Speed: [4.26846386]\n",
      "Forecast Start DateTime: 2024-06-09 12:00:00, Estimated Wind Speed: [4.22005749]\n",
      "Forecast Start DateTime: 2024-06-09 06:00:00, Estimated Wind Speed: [4.00054314]\n",
      "Forecast Start DateTime: 2024-06-09 00:00:00, Estimated Wind Speed: [4.03232283]\n",
      "Forecast Start DateTime: 2024-06-08 18:00:00, Estimated Wind Speed: [3.6061467]\n",
      "Forecast Start DateTime: 2024-06-08 12:00:00, Estimated Wind Speed: [3.67565174]\n",
      "Forecast Start DateTime: 2024-06-08 00:00:00, Estimated Wind Speed: [3.7596455]\n",
      "Forecast Start DateTime: 2024-06-07 12:00:00, Estimated Wind Speed: [3.9641166]\n",
      "Forecast Start DateTime: 2024-06-07 00:00:00, Estimated Wind Speed: [4.60555486]\n",
      "Forecast Start DateTime: 2024-06-06 12:00:00, Estimated Wind Speed: [4.4660824]\n",
      "Forecast Start DateTime: 2024-06-06 00:00:00, Estimated Wind Speed: [5.46546443]\n",
      "Forecast Start DateTime: 2024-06-05 12:00:00, Estimated Wind Speed: [3.58045672]\n"
     ]
    }
   ],
   "source": [
    "print(f\"target_date: 20240612, target_time= 1200\")\n",
    "for time, pred in preds_dict.items():\n",
    "    pred_akyaka = pred.sel(lat=akyaka_coords[\"lat\"], lon=akyaka_coords[\"lon\"], method=\"nearest\")\n",
    "    pred_wind_speed = (pred_akyaka.sel(channel=\"u10m\")**2 + pred_akyaka.sel(channel=\"v10m\")**2)**0.5\n",
    "    print(f\"Forecast Start DateTime: {pd.to_datetime(time)}, Estimated Wind Speed: {pred_wind_speed.values}\")\n"
   ]
  }
 ],
 "metadata": {
  "kernelspec": {
   "display_name": "weather_metal",
   "language": "python",
   "name": "python3"
  },
  "language_info": {
   "codemirror_mode": {
    "name": "ipython",
    "version": 3
   },
   "file_extension": ".py",
   "mimetype": "text/x-python",
   "name": "python",
   "nbconvert_exporter": "python",
   "pygments_lexer": "ipython3",
   "version": "3.10.14"
  }
 },
 "nbformat": 4,
 "nbformat_minor": 2
}
