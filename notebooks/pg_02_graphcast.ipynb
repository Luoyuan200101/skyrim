{
 "cells": [
  {
   "cell_type": "code",
   "execution_count": 1,
   "metadata": {},
   "outputs": [],
   "source": [
    "%load_ext autoreload\n",
    "%autoreload 2"
   ]
  },
  {
   "cell_type": "code",
   "execution_count": 2,
   "metadata": {},
   "outputs": [
    {
     "name": "stderr",
     "output_type": "stream",
     "text": [
      "/Users/m/miniconda3/envs/weather_metal/lib/python3.10/site-packages/tqdm/auto.py:21: TqdmWarning: IProgress not found. Please update jupyter and ipywidgets. See https://ipywidgets.readthedocs.io/en/stable/user_install.html\n",
      "  from .autonotebook import tqdm as notebook_tqdm\n"
     ]
    }
   ],
   "source": [
    "import sys\n",
    "\n",
    "sys.path.append(\"..\")\n",
    "from skyrim import Skyrim"
   ]
  },
  {
   "cell_type": "code",
   "execution_count": 3,
   "metadata": {},
   "outputs": [],
   "source": [
    "from skyrim.models import GraphCast, PanguWeather, FourCastNetV2"
   ]
  },
  {
   "cell_type": "code",
   "execution_count": 20,
   "metadata": {},
   "outputs": [
    {
     "name": "stderr",
     "output_type": "stream",
     "text": [
      "\u001b[32m2024-04-15 16:33:38.142\u001b[0m | \u001b[1mINFO    \u001b[0m | \u001b[36mskyrim.models\u001b[0m:\u001b[36mdownload_checkpoint\u001b[0m:\u001b[36m86\u001b[0m - \u001b[1mDownloading params/GraphCast_operational - ERA5-HRES 1979-2021 - resolution 0.25 - pressure levels 13 - mesh 2to6 - precipitation output only.npz...\u001b[0m\n",
      "\u001b[32m2024-04-15 16:33:43.384\u001b[0m | \u001b[32m\u001b[1mSUCCESS \u001b[0m | \u001b[36mskyrim.models\u001b[0m:\u001b[36mdownload_checkpoint\u001b[0m:\u001b[36m91\u001b[0m - \u001b[32m\u001b[1mDownloaded params/GraphCast_operational - ERA5-HRES 1979-2021 - resolution 0.25 - pressure levels 13 - mesh 2to6 - precipitation output only.npz to /Users/m/Projects/skyrim/notebooks/../skyrim/checkpoints/params/GraphCast_operational - ERA5-HRES 1979-2021 - resolution 0.25 - pressure levels 13 - mesh 2to6 - precipitation output only.npz\u001b[0m\n",
      "\u001b[32m2024-04-15 16:33:43.386\u001b[0m | \u001b[1mINFO    \u001b[0m | \u001b[36mskyrim.models\u001b[0m:\u001b[36mdownload_checkpoint\u001b[0m:\u001b[36m86\u001b[0m - \u001b[1mDownloading stats/diffs_stddev_by_level.nc...\u001b[0m\n",
      "\u001b[32m2024-04-15 16:33:43.473\u001b[0m | \u001b[32m\u001b[1mSUCCESS \u001b[0m | \u001b[36mskyrim.models\u001b[0m:\u001b[36mdownload_checkpoint\u001b[0m:\u001b[36m91\u001b[0m - \u001b[32m\u001b[1mDownloaded stats/diffs_stddev_by_level.nc to /Users/m/Projects/skyrim/notebooks/../skyrim/checkpoints/stats/diffs_stddev_by_level.nc\u001b[0m\n",
      "\u001b[32m2024-04-15 16:33:43.473\u001b[0m | \u001b[1mINFO    \u001b[0m | \u001b[36mskyrim.models\u001b[0m:\u001b[36mdownload_checkpoint\u001b[0m:\u001b[36m86\u001b[0m - \u001b[1mDownloading stats/mean_by_level.nc...\u001b[0m\n",
      "\u001b[32m2024-04-15 16:33:43.554\u001b[0m | \u001b[32m\u001b[1mSUCCESS \u001b[0m | \u001b[36mskyrim.models\u001b[0m:\u001b[36mdownload_checkpoint\u001b[0m:\u001b[36m91\u001b[0m - \u001b[32m\u001b[1mDownloaded stats/mean_by_level.nc to /Users/m/Projects/skyrim/notebooks/../skyrim/checkpoints/stats/mean_by_level.nc\u001b[0m\n",
      "\u001b[32m2024-04-15 16:33:43.555\u001b[0m | \u001b[1mINFO    \u001b[0m | \u001b[36mskyrim.models\u001b[0m:\u001b[36mdownload_checkpoint\u001b[0m:\u001b[36m86\u001b[0m - \u001b[1mDownloading stats/stddev_by_level.nc...\u001b[0m\n",
      "\u001b[32m2024-04-15 16:33:43.638\u001b[0m | \u001b[32m\u001b[1mSUCCESS \u001b[0m | \u001b[36mskyrim.models\u001b[0m:\u001b[36mdownload_checkpoint\u001b[0m:\u001b[36m91\u001b[0m - \u001b[32m\u001b[1mDownloaded stats/stddev_by_level.nc to /Users/m/Projects/skyrim/notebooks/../skyrim/checkpoints/stats/stddev_by_level.nc\u001b[0m\n"
     ]
    }
   ],
   "source": [
    "GraphCast.download_checkpoint()"
   ]
  },
  {
   "cell_type": "code",
   "execution_count": 22,
   "metadata": {},
   "outputs": [
    {
     "name": "stderr",
     "output_type": "stream",
     "text": [
      "\u001b[32m2024-04-15 16:34:01.865\u001b[0m | \u001b[1mINFO    \u001b[0m | \u001b[36mskyrim.models\u001b[0m:\u001b[36mdownload_checkpoint\u001b[0m:\u001b[36m86\u001b[0m - \u001b[1mDownloading pangu_weather_24.onnx...\u001b[0m\n",
      "\u001b[32m2024-04-15 16:37:15.532\u001b[0m | \u001b[32m\u001b[1mSUCCESS \u001b[0m | \u001b[36mskyrim.models\u001b[0m:\u001b[36mdownload_checkpoint\u001b[0m:\u001b[36m91\u001b[0m - \u001b[32m\u001b[1mDownloaded pangu_weather_24.onnx to /Users/m/Projects/skyrim/notebooks/../skyrim/checkpoints/pangu_weather_24.onnx\u001b[0m\n",
      "\u001b[32m2024-04-15 16:37:15.534\u001b[0m | \u001b[1mINFO    \u001b[0m | \u001b[36mskyrim.models\u001b[0m:\u001b[36mdownload_checkpoint\u001b[0m:\u001b[36m86\u001b[0m - \u001b[1mDownloading pangu_weather_6.onnx...\u001b[0m\n",
      "\u001b[32m2024-04-15 16:44:14.383\u001b[0m | \u001b[32m\u001b[1mSUCCESS \u001b[0m | \u001b[36mskyrim.models\u001b[0m:\u001b[36mdownload_checkpoint\u001b[0m:\u001b[36m91\u001b[0m - \u001b[32m\u001b[1mDownloaded pangu_weather_6.onnx to /Users/m/Projects/skyrim/notebooks/../skyrim/checkpoints/pangu_weather_6.onnx\u001b[0m\n"
     ]
    }
   ],
   "source": [
    "PanguWeather.download_checkpoint()"
   ]
  },
  {
   "cell_type": "code",
   "execution_count": null,
   "metadata": {},
   "outputs": [],
   "source": []
  }
 ],
 "metadata": {
  "kernelspec": {
   "display_name": "weather_metal",
   "language": "python",
   "name": "python3"
  },
  "language_info": {
   "codemirror_mode": {
    "name": "ipython",
    "version": 3
   },
   "file_extension": ".py",
   "mimetype": "text/x-python",
   "name": "python",
   "nbconvert_exporter": "python",
   "pygments_lexer": "ipython3",
   "version": "3.10.14"
  }
 },
 "nbformat": 4,
 "nbformat_minor": 2
}
