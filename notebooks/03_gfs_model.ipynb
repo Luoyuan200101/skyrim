{
 "cells": [
  {
   "cell_type": "markdown",
   "metadata": {},
   "source": [
    "In this notebook, we will use Skyrim to get NOAA's [Global Forecast System](https://www.ncei.noaa.gov/products/weather-climate-models/global-forecast) (GFS) predictions—a global weather model.\n",
    "\n",
    "🛑 This notebook does not require any GPU.\n",
    "\n",
    "🪁 Again, we will focus on the wind-speed predictions for the Akyaka region in Turkey, which is a celestial spot for kitesurfing.\n",
    "\n",
    "Our approach:\n",
    "1. Initialize the GFSModel with the variables of interest, i.e., `u10m`, `v10m`, `t2m`.\n",
    "2. Get global predictions.\n",
    "3. Plot the acquired forecast.\n",
    "4. Utilize `GFSModel.snipe()` method, which retrieves the forecast for a specific target datetime, considering multiple possible start times. With this approach you can see how newly assimilated date changes the forecast. (can also be utilized as a proxy for uncertainty)\n",
    "\n",
    "☢️️ NOTE:\n",
    "Acquired forecasts should be taken with a grain of salt—our observations at Akyaka suggest that global weather models fail to capture the local wind characteristics of the kitesurfing beach. :)\n"
   ]
  },
  {
   "cell_type": "code",
   "execution_count": 1,
   "metadata": {},
   "outputs": [],
   "source": [
    "from skyrim.libs.nwp import GFSModel"
   ]
  },
  {
   "cell_type": "code",
   "execution_count": 2,
   "metadata": {},
   "outputs": [
    {
     "data": {
      "text/plain": [
       "1"
      ]
     },
     "execution_count": 2,
     "metadata": {},
     "output_type": "execute_result"
    }
   ],
   "source": [
    "# comment out the following line to see the logs\n",
    "from loguru import logger\n",
    "import sys\n",
    "logger.remove()\n",
    "logger.add(sys.stdout, level=\"INFO\")"
   ]
  },
  {
   "cell_type": "code",
   "execution_count": 3,
   "metadata": {},
   "outputs": [
    {
     "data": {
      "text/plain": [
       "['u10m', 'v10m', 'u100m', 'v100m', 't2m', 'sp', 'msl', 'tcwv', 'u50', 'u100']"
      ]
     },
     "execution_count": 3,
     "metadata": {},
     "output_type": "execute_result"
    }
   ],
   "source": [
    "# to see the available channels use the following command\n",
    "GFSModel.list_available_channels()[0:10]"
   ]
  },
  {
   "cell_type": "code",
   "execution_count": 4,
   "metadata": {},
   "outputs": [],
   "source": [
    "# specify the channels you are interested in\n",
    "channels = [\n",
    "    \"u10m\", # u-component (eastward, zonal) of wind at 10 meters\n",
    "    \"v10m\", # v-component (northward, meridional) of wind at 10 meters\n",
    "    \"t2m\",  # temperature at 2m\n",
    "]"
   ]
  },
  {
   "cell_type": "code",
   "execution_count": 5,
   "metadata": {},
   "outputs": [
    {
     "name": "stdout",
     "output_type": "stream",
     "text": [
      "\u001b[32m2024-06-26 13:56:47.231\u001b[0m | \u001b[1mINFO    \u001b[0m | \u001b[36mskyrim.libs.nwp.gfs\u001b[0m:\u001b[36m__init__\u001b[0m:\u001b[36m178\u001b[0m - \u001b[1mGFS model initialized with channels: ['u10m', 'v10m', 't2m']\u001b[0m\n"
     ]
    }
   ],
   "source": [
    "# initialize the model\n",
    "model = GFSModel(channels=channels)\n",
    "\n",
    "# to see where the results are cached\n",
    "# print(model.cache)\n",
    "\n",
    "# to clear the cache\n",
    "# model.clear_cache()"
   ]
  },
  {
   "cell_type": "code",
   "execution_count": 6,
   "metadata": {},
   "outputs": [
    {
     "name": "stderr",
     "output_type": "stream",
     "text": [
      "Fetching GFS for 2024-06-13 00:00:00:   0%|          | 0/3 [00:00<?, ?it/s]"
     ]
    },
    {
     "name": "stderr",
     "output_type": "stream",
     "text": [
      "Fetching GFS for 2024-06-13 00:00:00: 100%|██████████| 3/3 [00:12<00:00,  4.29s/it]\n"
     ]
    }
   ],
   "source": [
    "# get a daily global forecast from the GFS model\n",
    "pred = model.predict(date=\"20240613\", time=\"0000\", lead_time=24)"
   ]
  },
  {
   "cell_type": "code",
   "execution_count": 7,
   "metadata": {},
   "outputs": [
    {
     "data": {
      "text/html": [
       "<div><svg style=\"position: absolute; width: 0; height: 0; overflow: hidden\">\n",
       "<defs>\n",
       "<symbol id=\"icon-database\" viewBox=\"0 0 32 32\">\n",
       "<path d=\"M16 0c-8.837 0-16 2.239-16 5v4c0 2.761 7.163 5 16 5s16-2.239 16-5v-4c0-2.761-7.163-5-16-5z\"></path>\n",
       "<path d=\"M16 17c-8.837 0-16-2.239-16-5v6c0 2.761 7.163 5 16 5s16-2.239 16-5v-6c0 2.761-7.163 5-16 5z\"></path>\n",
       "<path d=\"M16 26c-8.837 0-16-2.239-16-5v6c0 2.761 7.163 5 16 5s16-2.239 16-5v-6c0 2.761-7.163 5-16 5z\"></path>\n",
       "</symbol>\n",
       "<symbol id=\"icon-file-text2\" viewBox=\"0 0 32 32\">\n",
       "<path d=\"M28.681 7.159c-0.694-0.947-1.662-2.053-2.724-3.116s-2.169-2.030-3.116-2.724c-1.612-1.182-2.393-1.319-2.841-1.319h-15.5c-1.378 0-2.5 1.121-2.5 2.5v27c0 1.378 1.122 2.5 2.5 2.5h23c1.378 0 2.5-1.122 2.5-2.5v-19.5c0-0.448-0.137-1.23-1.319-2.841zM24.543 5.457c0.959 0.959 1.712 1.825 2.268 2.543h-4.811v-4.811c0.718 0.556 1.584 1.309 2.543 2.268zM28 29.5c0 0.271-0.229 0.5-0.5 0.5h-23c-0.271 0-0.5-0.229-0.5-0.5v-27c0-0.271 0.229-0.5 0.5-0.5 0 0 15.499-0 15.5 0v7c0 0.552 0.448 1 1 1h7v19.5z\"></path>\n",
       "<path d=\"M23 26h-14c-0.552 0-1-0.448-1-1s0.448-1 1-1h14c0.552 0 1 0.448 1 1s-0.448 1-1 1z\"></path>\n",
       "<path d=\"M23 22h-14c-0.552 0-1-0.448-1-1s0.448-1 1-1h14c0.552 0 1 0.448 1 1s-0.448 1-1 1z\"></path>\n",
       "<path d=\"M23 18h-14c-0.552 0-1-0.448-1-1s0.448-1 1-1h14c0.552 0 1 0.448 1 1s-0.448 1-1 1z\"></path>\n",
       "</symbol>\n",
       "</defs>\n",
       "</svg>\n",
       "<style>/* CSS stylesheet for displaying xarray objects in jupyterlab.\n",
       " *\n",
       " */\n",
       "\n",
       ":root {\n",
       "  --xr-font-color0: var(--jp-content-font-color0, rgba(0, 0, 0, 1));\n",
       "  --xr-font-color2: var(--jp-content-font-color2, rgba(0, 0, 0, 0.54));\n",
       "  --xr-font-color3: var(--jp-content-font-color3, rgba(0, 0, 0, 0.38));\n",
       "  --xr-border-color: var(--jp-border-color2, #e0e0e0);\n",
       "  --xr-disabled-color: var(--jp-layout-color3, #bdbdbd);\n",
       "  --xr-background-color: var(--jp-layout-color0, white);\n",
       "  --xr-background-color-row-even: var(--jp-layout-color1, white);\n",
       "  --xr-background-color-row-odd: var(--jp-layout-color2, #eeeeee);\n",
       "}\n",
       "\n",
       "html[theme=dark],\n",
       "body[data-theme=dark],\n",
       "body.vscode-dark {\n",
       "  --xr-font-color0: rgba(255, 255, 255, 1);\n",
       "  --xr-font-color2: rgba(255, 255, 255, 0.54);\n",
       "  --xr-font-color3: rgba(255, 255, 255, 0.38);\n",
       "  --xr-border-color: #1F1F1F;\n",
       "  --xr-disabled-color: #515151;\n",
       "  --xr-background-color: #111111;\n",
       "  --xr-background-color-row-even: #111111;\n",
       "  --xr-background-color-row-odd: #313131;\n",
       "}\n",
       "\n",
       ".xr-wrap {\n",
       "  display: block !important;\n",
       "  min-width: 300px;\n",
       "  max-width: 700px;\n",
       "}\n",
       "\n",
       ".xr-text-repr-fallback {\n",
       "  /* fallback to plain text repr when CSS is not injected (untrusted notebook) */\n",
       "  display: none;\n",
       "}\n",
       "\n",
       ".xr-header {\n",
       "  padding-top: 6px;\n",
       "  padding-bottom: 6px;\n",
       "  margin-bottom: 4px;\n",
       "  border-bottom: solid 1px var(--xr-border-color);\n",
       "}\n",
       "\n",
       ".xr-header > div,\n",
       ".xr-header > ul {\n",
       "  display: inline;\n",
       "  margin-top: 0;\n",
       "  margin-bottom: 0;\n",
       "}\n",
       "\n",
       ".xr-obj-type,\n",
       ".xr-array-name {\n",
       "  margin-left: 2px;\n",
       "  margin-right: 10px;\n",
       "}\n",
       "\n",
       ".xr-obj-type {\n",
       "  color: var(--xr-font-color2);\n",
       "}\n",
       "\n",
       ".xr-sections {\n",
       "  padding-left: 0 !important;\n",
       "  display: grid;\n",
       "  grid-template-columns: 150px auto auto 1fr 20px 20px;\n",
       "}\n",
       "\n",
       ".xr-section-item {\n",
       "  display: contents;\n",
       "}\n",
       "\n",
       ".xr-section-item input {\n",
       "  display: none;\n",
       "}\n",
       "\n",
       ".xr-section-item input + label {\n",
       "  color: var(--xr-disabled-color);\n",
       "}\n",
       "\n",
       ".xr-section-item input:enabled + label {\n",
       "  cursor: pointer;\n",
       "  color: var(--xr-font-color2);\n",
       "}\n",
       "\n",
       ".xr-section-item input:enabled + label:hover {\n",
       "  color: var(--xr-font-color0);\n",
       "}\n",
       "\n",
       ".xr-section-summary {\n",
       "  grid-column: 1;\n",
       "  color: var(--xr-font-color2);\n",
       "  font-weight: 500;\n",
       "}\n",
       "\n",
       ".xr-section-summary > span {\n",
       "  display: inline-block;\n",
       "  padding-left: 0.5em;\n",
       "}\n",
       "\n",
       ".xr-section-summary-in:disabled + label {\n",
       "  color: var(--xr-font-color2);\n",
       "}\n",
       "\n",
       ".xr-section-summary-in + label:before {\n",
       "  display: inline-block;\n",
       "  content: '►';\n",
       "  font-size: 11px;\n",
       "  width: 15px;\n",
       "  text-align: center;\n",
       "}\n",
       "\n",
       ".xr-section-summary-in:disabled + label:before {\n",
       "  color: var(--xr-disabled-color);\n",
       "}\n",
       "\n",
       ".xr-section-summary-in:checked + label:before {\n",
       "  content: '▼';\n",
       "}\n",
       "\n",
       ".xr-section-summary-in:checked + label > span {\n",
       "  display: none;\n",
       "}\n",
       "\n",
       ".xr-section-summary,\n",
       ".xr-section-inline-details {\n",
       "  padding-top: 4px;\n",
       "  padding-bottom: 4px;\n",
       "}\n",
       "\n",
       ".xr-section-inline-details {\n",
       "  grid-column: 2 / -1;\n",
       "}\n",
       "\n",
       ".xr-section-details {\n",
       "  display: none;\n",
       "  grid-column: 1 / -1;\n",
       "  margin-bottom: 5px;\n",
       "}\n",
       "\n",
       ".xr-section-summary-in:checked ~ .xr-section-details {\n",
       "  display: contents;\n",
       "}\n",
       "\n",
       ".xr-array-wrap {\n",
       "  grid-column: 1 / -1;\n",
       "  display: grid;\n",
       "  grid-template-columns: 20px auto;\n",
       "}\n",
       "\n",
       ".xr-array-wrap > label {\n",
       "  grid-column: 1;\n",
       "  vertical-align: top;\n",
       "}\n",
       "\n",
       ".xr-preview {\n",
       "  color: var(--xr-font-color3);\n",
       "}\n",
       "\n",
       ".xr-array-preview,\n",
       ".xr-array-data {\n",
       "  padding: 0 5px !important;\n",
       "  grid-column: 2;\n",
       "}\n",
       "\n",
       ".xr-array-data,\n",
       ".xr-array-in:checked ~ .xr-array-preview {\n",
       "  display: none;\n",
       "}\n",
       "\n",
       ".xr-array-in:checked ~ .xr-array-data,\n",
       ".xr-array-preview {\n",
       "  display: inline-block;\n",
       "}\n",
       "\n",
       ".xr-dim-list {\n",
       "  display: inline-block !important;\n",
       "  list-style: none;\n",
       "  padding: 0 !important;\n",
       "  margin: 0;\n",
       "}\n",
       "\n",
       ".xr-dim-list li {\n",
       "  display: inline-block;\n",
       "  padding: 0;\n",
       "  margin: 0;\n",
       "}\n",
       "\n",
       ".xr-dim-list:before {\n",
       "  content: '(';\n",
       "}\n",
       "\n",
       ".xr-dim-list:after {\n",
       "  content: ')';\n",
       "}\n",
       "\n",
       ".xr-dim-list li:not(:last-child):after {\n",
       "  content: ',';\n",
       "  padding-right: 5px;\n",
       "}\n",
       "\n",
       ".xr-has-index {\n",
       "  font-weight: bold;\n",
       "}\n",
       "\n",
       ".xr-var-list,\n",
       ".xr-var-item {\n",
       "  display: contents;\n",
       "}\n",
       "\n",
       ".xr-var-item > div,\n",
       ".xr-var-item label,\n",
       ".xr-var-item > .xr-var-name span {\n",
       "  background-color: var(--xr-background-color-row-even);\n",
       "  margin-bottom: 0;\n",
       "}\n",
       "\n",
       ".xr-var-item > .xr-var-name:hover span {\n",
       "  padding-right: 5px;\n",
       "}\n",
       "\n",
       ".xr-var-list > li:nth-child(odd) > div,\n",
       ".xr-var-list > li:nth-child(odd) > label,\n",
       ".xr-var-list > li:nth-child(odd) > .xr-var-name span {\n",
       "  background-color: var(--xr-background-color-row-odd);\n",
       "}\n",
       "\n",
       ".xr-var-name {\n",
       "  grid-column: 1;\n",
       "}\n",
       "\n",
       ".xr-var-dims {\n",
       "  grid-column: 2;\n",
       "}\n",
       "\n",
       ".xr-var-dtype {\n",
       "  grid-column: 3;\n",
       "  text-align: right;\n",
       "  color: var(--xr-font-color2);\n",
       "}\n",
       "\n",
       ".xr-var-preview {\n",
       "  grid-column: 4;\n",
       "}\n",
       "\n",
       ".xr-index-preview {\n",
       "  grid-column: 2 / 5;\n",
       "  color: var(--xr-font-color2);\n",
       "}\n",
       "\n",
       ".xr-var-name,\n",
       ".xr-var-dims,\n",
       ".xr-var-dtype,\n",
       ".xr-preview,\n",
       ".xr-attrs dt {\n",
       "  white-space: nowrap;\n",
       "  overflow: hidden;\n",
       "  text-overflow: ellipsis;\n",
       "  padding-right: 10px;\n",
       "}\n",
       "\n",
       ".xr-var-name:hover,\n",
       ".xr-var-dims:hover,\n",
       ".xr-var-dtype:hover,\n",
       ".xr-attrs dt:hover {\n",
       "  overflow: visible;\n",
       "  width: auto;\n",
       "  z-index: 1;\n",
       "}\n",
       "\n",
       ".xr-var-attrs,\n",
       ".xr-var-data,\n",
       ".xr-index-data {\n",
       "  display: none;\n",
       "  background-color: var(--xr-background-color) !important;\n",
       "  padding-bottom: 5px !important;\n",
       "}\n",
       "\n",
       ".xr-var-attrs-in:checked ~ .xr-var-attrs,\n",
       ".xr-var-data-in:checked ~ .xr-var-data,\n",
       ".xr-index-data-in:checked ~ .xr-index-data {\n",
       "  display: block;\n",
       "}\n",
       "\n",
       ".xr-var-data > table {\n",
       "  float: right;\n",
       "}\n",
       "\n",
       ".xr-var-name span,\n",
       ".xr-var-data,\n",
       ".xr-index-name div,\n",
       ".xr-index-data,\n",
       ".xr-attrs {\n",
       "  padding-left: 25px !important;\n",
       "}\n",
       "\n",
       ".xr-attrs,\n",
       ".xr-var-attrs,\n",
       ".xr-var-data,\n",
       ".xr-index-data {\n",
       "  grid-column: 1 / -1;\n",
       "}\n",
       "\n",
       "dl.xr-attrs {\n",
       "  padding: 0;\n",
       "  margin: 0;\n",
       "  display: grid;\n",
       "  grid-template-columns: 125px auto;\n",
       "}\n",
       "\n",
       ".xr-attrs dt,\n",
       ".xr-attrs dd {\n",
       "  padding: 0;\n",
       "  margin: 0;\n",
       "  float: left;\n",
       "  padding-right: 10px;\n",
       "  width: auto;\n",
       "}\n",
       "\n",
       ".xr-attrs dt {\n",
       "  font-weight: normal;\n",
       "  grid-column: 1;\n",
       "}\n",
       "\n",
       ".xr-attrs dt:hover span {\n",
       "  display: inline-block;\n",
       "  background: var(--xr-background-color);\n",
       "  padding-right: 10px;\n",
       "}\n",
       "\n",
       ".xr-attrs dd {\n",
       "  grid-column: 2;\n",
       "  white-space: pre-wrap;\n",
       "  word-break: break-all;\n",
       "}\n",
       "\n",
       ".xr-icon-database,\n",
       ".xr-icon-file-text2,\n",
       ".xr-no-icon {\n",
       "  display: inline-block;\n",
       "  vertical-align: middle;\n",
       "  width: 1em;\n",
       "  height: 1.5em !important;\n",
       "  stroke-width: 0;\n",
       "  stroke: currentColor;\n",
       "  fill: currentColor;\n",
       "}\n",
       "</style><pre class='xr-text-repr-fallback'>&lt;xarray.DataArray (time: 25)&gt; Size: 200B\n",
       "array([2.15662469, 2.49584435, 3.17731254, 3.34144008, 3.19191033,\n",
       "       2.25343966, 1.46619776, 2.02568793, 3.35475672, 3.68483365,\n",
       "       3.63495247, 4.39460557, 4.07563796, 4.05452944, 5.11811967,\n",
       "       6.54845753, 4.29171464, 2.60072334, 3.0517703 , 3.12565164,\n",
       "       3.07490176, 2.86719336, 2.89179188, 3.15635124, 3.34555511])\n",
       "Coordinates:\n",
       "  * time     (time) datetime64[ns] 200B 2024-06-13 ... 2024-06-14\n",
       "    lat      float64 8B 37.0\n",
       "    lon      float64 8B 28.25</pre><div class='xr-wrap' style='display:none'><div class='xr-header'><div class='xr-obj-type'>xarray.DataArray</div><div class='xr-array-name'></div><ul class='xr-dim-list'><li><span class='xr-has-index'>time</span>: 25</li></ul></div><ul class='xr-sections'><li class='xr-section-item'><div class='xr-array-wrap'><input id='section-33423d0d-31d6-4ae7-90eb-fb8d233c45b3' class='xr-array-in' type='checkbox' checked><label for='section-33423d0d-31d6-4ae7-90eb-fb8d233c45b3' title='Show/hide data repr'><svg class='icon xr-icon-database'><use xlink:href='#icon-database'></use></svg></label><div class='xr-array-preview xr-preview'><span>2.157 2.496 3.177 3.341 3.192 2.253 ... 3.075 2.867 2.892 3.156 3.346</span></div><div class='xr-array-data'><pre>array([2.15662469, 2.49584435, 3.17731254, 3.34144008, 3.19191033,\n",
       "       2.25343966, 1.46619776, 2.02568793, 3.35475672, 3.68483365,\n",
       "       3.63495247, 4.39460557, 4.07563796, 4.05452944, 5.11811967,\n",
       "       6.54845753, 4.29171464, 2.60072334, 3.0517703 , 3.12565164,\n",
       "       3.07490176, 2.86719336, 2.89179188, 3.15635124, 3.34555511])</pre></div></div></li><li class='xr-section-item'><input id='section-0f0224ed-1e14-4ba3-952f-10bca80e4dd3' class='xr-section-summary-in' type='checkbox'  checked><label for='section-0f0224ed-1e14-4ba3-952f-10bca80e4dd3' class='xr-section-summary' >Coordinates: <span>(3)</span></label><div class='xr-section-inline-details'></div><div class='xr-section-details'><ul class='xr-var-list'><li class='xr-var-item'><div class='xr-var-name'><span class='xr-has-index'>time</span></div><div class='xr-var-dims'>(time)</div><div class='xr-var-dtype'>datetime64[ns]</div><div class='xr-var-preview xr-preview'>2024-06-13 ... 2024-06-14</div><input id='attrs-7b9d99f9-a38c-4535-ac94-8cc423252078' class='xr-var-attrs-in' type='checkbox' disabled><label for='attrs-7b9d99f9-a38c-4535-ac94-8cc423252078' title='Show/Hide attributes'><svg class='icon xr-icon-file-text2'><use xlink:href='#icon-file-text2'></use></svg></label><input id='data-8664fbac-16d7-4dfe-b5b4-0b56b07a062b' class='xr-var-data-in' type='checkbox'><label for='data-8664fbac-16d7-4dfe-b5b4-0b56b07a062b' title='Show/Hide data repr'><svg class='icon xr-icon-database'><use xlink:href='#icon-database'></use></svg></label><div class='xr-var-attrs'><dl class='xr-attrs'></dl></div><div class='xr-var-data'><pre>array([&#x27;2024-06-13T00:00:00.000000000&#x27;, &#x27;2024-06-13T01:00:00.000000000&#x27;,\n",
       "       &#x27;2024-06-13T02:00:00.000000000&#x27;, &#x27;2024-06-13T03:00:00.000000000&#x27;,\n",
       "       &#x27;2024-06-13T04:00:00.000000000&#x27;, &#x27;2024-06-13T05:00:00.000000000&#x27;,\n",
       "       &#x27;2024-06-13T06:00:00.000000000&#x27;, &#x27;2024-06-13T07:00:00.000000000&#x27;,\n",
       "       &#x27;2024-06-13T08:00:00.000000000&#x27;, &#x27;2024-06-13T09:00:00.000000000&#x27;,\n",
       "       &#x27;2024-06-13T10:00:00.000000000&#x27;, &#x27;2024-06-13T11:00:00.000000000&#x27;,\n",
       "       &#x27;2024-06-13T12:00:00.000000000&#x27;, &#x27;2024-06-13T13:00:00.000000000&#x27;,\n",
       "       &#x27;2024-06-13T14:00:00.000000000&#x27;, &#x27;2024-06-13T15:00:00.000000000&#x27;,\n",
       "       &#x27;2024-06-13T16:00:00.000000000&#x27;, &#x27;2024-06-13T17:00:00.000000000&#x27;,\n",
       "       &#x27;2024-06-13T18:00:00.000000000&#x27;, &#x27;2024-06-13T19:00:00.000000000&#x27;,\n",
       "       &#x27;2024-06-13T20:00:00.000000000&#x27;, &#x27;2024-06-13T21:00:00.000000000&#x27;,\n",
       "       &#x27;2024-06-13T22:00:00.000000000&#x27;, &#x27;2024-06-13T23:00:00.000000000&#x27;,\n",
       "       &#x27;2024-06-14T00:00:00.000000000&#x27;], dtype=&#x27;datetime64[ns]&#x27;)</pre></div></li><li class='xr-var-item'><div class='xr-var-name'><span>lat</span></div><div class='xr-var-dims'>()</div><div class='xr-var-dtype'>float64</div><div class='xr-var-preview xr-preview'>37.0</div><input id='attrs-048915b4-b87c-4da4-8d72-68bf3258387e' class='xr-var-attrs-in' type='checkbox' disabled><label for='attrs-048915b4-b87c-4da4-8d72-68bf3258387e' title='Show/Hide attributes'><svg class='icon xr-icon-file-text2'><use xlink:href='#icon-file-text2'></use></svg></label><input id='data-f15cd386-477f-45fc-a00f-e6a23eaf5620' class='xr-var-data-in' type='checkbox'><label for='data-f15cd386-477f-45fc-a00f-e6a23eaf5620' title='Show/Hide data repr'><svg class='icon xr-icon-database'><use xlink:href='#icon-database'></use></svg></label><div class='xr-var-attrs'><dl class='xr-attrs'></dl></div><div class='xr-var-data'><pre>array(37.)</pre></div></li><li class='xr-var-item'><div class='xr-var-name'><span>lon</span></div><div class='xr-var-dims'>()</div><div class='xr-var-dtype'>float64</div><div class='xr-var-preview xr-preview'>28.25</div><input id='attrs-06f40d23-547a-47a9-933a-bfed77fcaef6' class='xr-var-attrs-in' type='checkbox' disabled><label for='attrs-06f40d23-547a-47a9-933a-bfed77fcaef6' title='Show/Hide attributes'><svg class='icon xr-icon-file-text2'><use xlink:href='#icon-file-text2'></use></svg></label><input id='data-fc693eef-0c1a-4b6d-8f40-7b935a852c5f' class='xr-var-data-in' type='checkbox'><label for='data-fc693eef-0c1a-4b6d-8f40-7b935a852c5f' title='Show/Hide data repr'><svg class='icon xr-icon-database'><use xlink:href='#icon-database'></use></svg></label><div class='xr-var-attrs'><dl class='xr-attrs'></dl></div><div class='xr-var-data'><pre>array(28.25)</pre></div></li></ul></div></li><li class='xr-section-item'><input id='section-70b36c2f-ad1e-417d-a112-cb4126689a1f' class='xr-section-summary-in' type='checkbox'  ><label for='section-70b36c2f-ad1e-417d-a112-cb4126689a1f' class='xr-section-summary' >Indexes: <span>(1)</span></label><div class='xr-section-inline-details'></div><div class='xr-section-details'><ul class='xr-var-list'><li class='xr-var-item'><div class='xr-index-name'><div>time</div></div><div class='xr-index-preview'>PandasIndex</div><div></div><input id='index-dc906c14-baef-492d-b996-5d69e6dfa2f8' class='xr-index-data-in' type='checkbox'/><label for='index-dc906c14-baef-492d-b996-5d69e6dfa2f8' title='Show/Hide index repr'><svg class='icon xr-icon-database'><use xlink:href='#icon-database'></use></svg></label><div class='xr-index-data'><pre>PandasIndex(DatetimeIndex([&#x27;2024-06-13 00:00:00&#x27;, &#x27;2024-06-13 01:00:00&#x27;,\n",
       "               &#x27;2024-06-13 02:00:00&#x27;, &#x27;2024-06-13 03:00:00&#x27;,\n",
       "               &#x27;2024-06-13 04:00:00&#x27;, &#x27;2024-06-13 05:00:00&#x27;,\n",
       "               &#x27;2024-06-13 06:00:00&#x27;, &#x27;2024-06-13 07:00:00&#x27;,\n",
       "               &#x27;2024-06-13 08:00:00&#x27;, &#x27;2024-06-13 09:00:00&#x27;,\n",
       "               &#x27;2024-06-13 10:00:00&#x27;, &#x27;2024-06-13 11:00:00&#x27;,\n",
       "               &#x27;2024-06-13 12:00:00&#x27;, &#x27;2024-06-13 13:00:00&#x27;,\n",
       "               &#x27;2024-06-13 14:00:00&#x27;, &#x27;2024-06-13 15:00:00&#x27;,\n",
       "               &#x27;2024-06-13 16:00:00&#x27;, &#x27;2024-06-13 17:00:00&#x27;,\n",
       "               &#x27;2024-06-13 18:00:00&#x27;, &#x27;2024-06-13 19:00:00&#x27;,\n",
       "               &#x27;2024-06-13 20:00:00&#x27;, &#x27;2024-06-13 21:00:00&#x27;,\n",
       "               &#x27;2024-06-13 22:00:00&#x27;, &#x27;2024-06-13 23:00:00&#x27;,\n",
       "               &#x27;2024-06-14 00:00:00&#x27;],\n",
       "              dtype=&#x27;datetime64[ns]&#x27;, name=&#x27;time&#x27;, freq=None))</pre></div></li></ul></div></li><li class='xr-section-item'><input id='section-6d35cfa3-4fe0-4690-818b-d773c01d41df' class='xr-section-summary-in' type='checkbox' disabled ><label for='section-6d35cfa3-4fe0-4690-818b-d773c01d41df' class='xr-section-summary'  title='Expand/collapse section'>Attributes: <span>(0)</span></label><div class='xr-section-inline-details'></div><div class='xr-section-details'><dl class='xr-attrs'></dl></div></li></ul></div></div>"
      ],
      "text/plain": [
       "<xarray.DataArray (time: 25)> Size: 200B\n",
       "array([2.15662469, 2.49584435, 3.17731254, 3.34144008, 3.19191033,\n",
       "       2.25343966, 1.46619776, 2.02568793, 3.35475672, 3.68483365,\n",
       "       3.63495247, 4.39460557, 4.07563796, 4.05452944, 5.11811967,\n",
       "       6.54845753, 4.29171464, 2.60072334, 3.0517703 , 3.12565164,\n",
       "       3.07490176, 2.86719336, 2.89179188, 3.15635124, 3.34555511])\n",
       "Coordinates:\n",
       "  * time     (time) datetime64[ns] 200B 2024-06-13 ... 2024-06-14\n",
       "    lat      float64 8B 37.0\n",
       "    lon      float64 8B 28.25"
      ]
     },
     "execution_count": 7,
     "metadata": {},
     "output_type": "execute_result"
    }
   ],
   "source": [
    "# interested in winds speed at akayaka, Turkey (great place for kite surfing!)\n",
    "akyaka_coords = {\"lat\": 37.0557, \"lon\": 28.3242}\n",
    "pred_akyaka = pred.sel(lat=akyaka_coords[\"lat\"], lon=akyaka_coords[\"lon\"], method=\"nearest\")\n",
    "pred_wind_speed = (pred_akyaka.sel(channel=\"u10m\")**2 + pred_akyaka.sel(channel=\"v10m\")**2)**0.5\n",
    "pred_wind_speed     "
   ]
  },
  {
   "cell_type": "code",
   "execution_count": 8,
   "metadata": {},
   "outputs": [
    {
     "data": {
      "image/png": "[encoded data removed]",
      "text/plain": [
       "<Figure size 1200x600 with 1 Axes>"
      ]
     },
     "metadata": {},
     "output_type": "display_data"
    }
   ],
   "source": [
    "# plot wind speeds with forecast date times\n",
    "import matplotlib.pyplot as plt\n",
    "import numpy as np\n",
    "import pandas as pd\n",
    "\n",
    "plt.figure(figsize=(12, 6))\n",
    "plt.plot(pd.to_datetime(pred.time.values).strftime(\"%Y-%m-%d %H:%M\"), pred_wind_speed.values, \"--o\")\n",
    "plt.title(\"Wind Speed Forecast, Akayaka, Turkey\")\n",
    "plt.xlabel(\"DateTime [UTC, YYYY-MM-DD HH:MM]\")\n",
    "plt.ylabel(\"Wind Speed (m/s)\")\n",
    "plt.xticks(rotation=90)\n",
    "plt.grid()\n",
    "plt.show()"
   ]
  },
  {
   "cell_type": "code",
   "execution_count": 9,
   "metadata": {},
   "outputs": [
    {
     "name": "stdout",
     "output_type": "stream",
     "text": [
      "\u001b[32m2024-06-26 13:57:09.853\u001b[0m | \u001b[1mINFO    \u001b[0m | \u001b[36mskyrim.libs.nwp.gfs\u001b[0m:\u001b[36msnipe\u001b[0m:\u001b[36m342\u001b[0m - \u001b[1mFetching for start_time: 2024-06-13 12:00:00\u001b[0m\n"
     ]
    },
    {
     "name": "stderr",
     "output_type": "stream",
     "text": [
      "Fetching GFS for 2024-06-13 12:00:00: 100%|██████████| 3/3 [00:00<00:00,  5.93it/s]"
     ]
    },
    {
     "name": "stdout",
     "output_type": "stream",
     "text": [
      "\u001b[32m2024-06-26 13:57:11.346\u001b[0m | \u001b[1mINFO    \u001b[0m | \u001b[36mskyrim.libs.nwp.gfs\u001b[0m:\u001b[36msnipe\u001b[0m:\u001b[36m342\u001b[0m - \u001b[1mFetching for start_time: 2024-06-13 06:00:00\u001b[0m\n"
     ]
    },
    {
     "name": "stderr",
     "output_type": "stream",
     "text": [
      "\n",
      "Fetching GFS for 2024-06-13 06:00:00: 100%|██████████| 3/3 [00:00<00:00,  6.00it/s]"
     ]
    },
    {
     "name": "stdout",
     "output_type": "stream",
     "text": [
      "\u001b[32m2024-06-26 13:57:11.848\u001b[0m | \u001b[1mINFO    \u001b[0m | \u001b[36mskyrim.libs.nwp.gfs\u001b[0m:\u001b[36msnipe\u001b[0m:\u001b[36m342\u001b[0m - \u001b[1mFetching for start_time: 2024-06-13 00:00:00\u001b[0m\n"
     ]
    },
    {
     "name": "stderr",
     "output_type": "stream",
     "text": [
      "\n",
      "Fetching GFS for 2024-06-13 00:00:00: 100%|██████████| 3/3 [00:00<00:00,  6.14it/s]"
     ]
    },
    {
     "name": "stdout",
     "output_type": "stream",
     "text": [
      "\u001b[32m2024-06-26 13:57:12.340\u001b[0m | \u001b[1mINFO    \u001b[0m | \u001b[36mskyrim.libs.nwp.gfs\u001b[0m:\u001b[36msnipe\u001b[0m:\u001b[36m342\u001b[0m - \u001b[1mFetching for start_time: 2024-06-12 18:00:00\u001b[0m\n"
     ]
    },
    {
     "name": "stderr",
     "output_type": "stream",
     "text": [
      "\n",
      "Fetching GFS for 2024-06-12 18:00:00: 100%|██████████| 3/3 [00:00<00:00,  5.93it/s]"
     ]
    },
    {
     "name": "stdout",
     "output_type": "stream",
     "text": [
      "\u001b[32m2024-06-26 13:57:13.196\u001b[0m | \u001b[1mINFO    \u001b[0m | \u001b[36mskyrim.libs.nwp.gfs\u001b[0m:\u001b[36msnipe\u001b[0m:\u001b[36m342\u001b[0m - \u001b[1mFetching for start_time: 2024-06-12 12:00:00\u001b[0m\n"
     ]
    },
    {
     "name": "stderr",
     "output_type": "stream",
     "text": [
      "\n",
      "Fetching GFS for 2024-06-12 12:00:00: 100%|██████████| 3/3 [00:00<00:00,  5.72it/s]"
     ]
    },
    {
     "name": "stdout",
     "output_type": "stream",
     "text": [
      "\u001b[32m2024-06-26 13:57:13.723\u001b[0m | \u001b[1mINFO    \u001b[0m | \u001b[36mskyrim.libs.nwp.gfs\u001b[0m:\u001b[36msnipe\u001b[0m:\u001b[36m342\u001b[0m - \u001b[1mFetching for start_time: 2024-06-12 06:00:00\u001b[0m\n"
     ]
    },
    {
     "name": "stderr",
     "output_type": "stream",
     "text": [
      "\n",
      "Fetching GFS for 2024-06-12 06:00:00: 100%|██████████| 3/3 [00:00<00:00,  6.11it/s]"
     ]
    },
    {
     "name": "stdout",
     "output_type": "stream",
     "text": [
      "\u001b[32m2024-06-26 13:57:14.216\u001b[0m | \u001b[1mINFO    \u001b[0m | \u001b[36mskyrim.libs.nwp.gfs\u001b[0m:\u001b[36msnipe\u001b[0m:\u001b[36m342\u001b[0m - \u001b[1mFetching for start_time: 2024-06-12 00:00:00\u001b[0m\n"
     ]
    },
    {
     "name": "stderr",
     "output_type": "stream",
     "text": [
      "\n",
      "Fetching GFS for 2024-06-12 00:00:00: 100%|██████████| 3/3 [00:00<00:00,  5.90it/s]"
     ]
    },
    {
     "name": "stdout",
     "output_type": "stream",
     "text": [
      "\u001b[32m2024-06-26 13:57:14.728\u001b[0m | \u001b[1mINFO    \u001b[0m | \u001b[36mskyrim.libs.nwp.gfs\u001b[0m:\u001b[36msnipe\u001b[0m:\u001b[36m342\u001b[0m - \u001b[1mFetching for start_time: 2024-06-11 18:00:00\u001b[0m\n"
     ]
    },
    {
     "name": "stderr",
     "output_type": "stream",
     "text": [
      "\n",
      "Fetching GFS for 2024-06-11 18:00:00: 100%|██████████| 3/3 [00:00<00:00,  5.90it/s]"
     ]
    },
    {
     "name": "stdout",
     "output_type": "stream",
     "text": [
      "\u001b[32m2024-06-26 13:57:15.601\u001b[0m | \u001b[1mINFO    \u001b[0m | \u001b[36mskyrim.libs.nwp.gfs\u001b[0m:\u001b[36msnipe\u001b[0m:\u001b[36m342\u001b[0m - \u001b[1mFetching for start_time: 2024-06-11 12:00:00\u001b[0m\n"
     ]
    },
    {
     "name": "stderr",
     "output_type": "stream",
     "text": [
      "\n",
      "Fetching GFS for 2024-06-11 12:00:00: 100%|██████████| 3/3 [00:00<00:00,  5.88it/s]\n"
     ]
    }
   ],
   "source": [
    "# if interested in specific date and time\n",
    "preds_dict = model.snipe(target_date = \"20240613\", \n",
    "                         target_time= \"1200\", \n",
    "                         max_hours_back=24*2 # 2 days\n",
    "                         )"
   ]
  },
  {
   "cell_type": "code",
   "execution_count": 10,
   "metadata": {},
   "outputs": [
    {
     "name": "stdout",
     "output_type": "stream",
     "text": [
      "Forecast Start DateTime: 2024-06-13 12:00:00, Estimated Wind Speed: [4.23997016]\n",
      "Forecast Start DateTime: 2024-06-13 06:00:00, Estimated Wind Speed: [4.28940128]\n",
      "Forecast Start DateTime: 2024-06-13 00:00:00, Estimated Wind Speed: [4.07563796]\n",
      "Forecast Start DateTime: 2024-06-12 18:00:00, Estimated Wind Speed: [4.10685801]\n",
      "Forecast Start DateTime: 2024-06-12 12:00:00, Estimated Wind Speed: [3.24703005]\n",
      "Forecast Start DateTime: 2024-06-12 06:00:00, Estimated Wind Speed: [3.45216904]\n",
      "Forecast Start DateTime: 2024-06-12 00:00:00, Estimated Wind Speed: [4.74497719]\n",
      "Forecast Start DateTime: 2024-06-11 18:00:00, Estimated Wind Speed: [4.19054864]\n",
      "Forecast Start DateTime: 2024-06-11 12:00:00, Estimated Wind Speed: [4.26237742]\n"
     ]
    }
   ],
   "source": [
    "# get the forecast for the specific date and time\n",
    "# see how the predictions change over time as new data assimilated\n",
    "for time, pred in preds_dict.items():\n",
    "    pred_akyaka = pred.sel(lat=akyaka_coords[\"lat\"], lon=akyaka_coords[\"lon\"], method=\"nearest\")\n",
    "    pred_wind_speed = (pred_akyaka.sel(channel=\"u10m\")**2 + pred_akyaka.sel(channel=\"v10m\")**2)**0.5\n",
    "    print(f\"Forecast Start DateTime: {pd.to_datetime(time)}, Estimated Wind Speed: {pred_wind_speed.values}\")"
   ]
  }
 ],
 "metadata": {
  "kernelspec": {
   "display_name": "weather_metal",
   "language": "python",
   "name": "python3"
  },
  "language_info": {
   "codemirror_mode": {
    "name": "ipython",
    "version": 3
   },
   "file_extension": ".py",
   "mimetype": "text/x-python",
   "name": "python",
   "nbconvert_exporter": "python",
   "pygments_lexer": "ipython3",
   "version": "3.10.14"
  }
 },
 "nbformat": 4,
 "nbformat_minor": 2
}
